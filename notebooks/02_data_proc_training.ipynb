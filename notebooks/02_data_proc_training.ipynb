{
  "nbformat": 4,
  "nbformat_minor": 0,
  "metadata": {
    "colab": {
      "name": "02_data_proc_training.ipynb",
      "provenance": [],
      "collapsed_sections": [],
      "machine_shape": "hm"
    },
    "kernelspec": {
      "display_name": "Python 3",
      "language": "python",
      "name": "python3"
    },
    "language_info": {
      "codemirror_mode": {
        "name": "ipython",
        "version": 3
      },
      "file_extension": ".py",
      "mimetype": "text/x-python",
      "name": "python",
      "nbconvert_exporter": "python",
      "pygments_lexer": "ipython3",
      "version": "3.8.5"
    },
    "accelerator": "GPU"
  },
  "cells": [
    {
      "cell_type": "code",
      "metadata": {
        "colab": {
          "base_uri": "https://localhost:8080/"
        },
        "id": "CECo6djOrFUM",
        "outputId": "8028d79b-3c0d-4855-fbd1-756c19812d92"
      },
      "source": [
        "from google.colab import drive\n",
        "drive.mount('/content/gdrive')\n",
        "\n",
        "import os\n",
        "\n",
        "os.getcwd()\n",
        "os.chdir(\"/content/gdrive/MyDrive/Colab Notebooks/shabdavedi\")\n",
        "\n",
        "print(os.getcwd())\n",
        "\n",
        "print(os.listdir())"
      ],
      "execution_count": 1,
      "outputs": [
        {
          "output_type": "stream",
          "text": [
            "Drive already mounted at /content/gdrive; to attempt to forcibly remount, call drive.mount(\"/content/gdrive\", force_remount=True).\n",
            "/content/gdrive/MyDrive/Colab Notebooks/shabdavedi\n",
            "['.git', '.gitignore', 'README.md', 'build.txt', 'data', 'notebooks', 'requirements.txt', 'src', 'runs', 'cuda_install_status.txt']\n"
          ],
          "name": "stdout"
        }
      ]
    },
    {
      "cell_type": "markdown",
      "metadata": {
        "id": "LBSYoWbi-45k"
      },
      "source": [
        "# **Fine-tuning XLSR-Wav2Vec2 for Multi-Lingual ASR with 🤗 Transformers**"
      ]
    },
    {
      "cell_type": "markdown",
      "metadata": {
        "id": "V7YOT2mnUiea"
      },
      "source": [
        "Wav2Vec2 is a pretrained model for Automatic Speech Recognition (ASR) and was released in [September 2020](https://ai.facebook.com/blog/wav2vec-20-learning-the-structure-of-speech-from-raw-audio/) by Alexei Baevski, Michael Auli, and Alex Conneau.  Soon after the superior performance of Wav2Vec2 was demonstrated on the English ASR dataset LibriSpeech, *Facebook AI* presented XLSR-Wav2Vec2 (click [here](https://arxiv.org/abs/2006.13979)). XLSR stands for *cross-lingual  speech representations* and refers to XLSR-Wav2Vec2`s ability to learn speech representations that are useful across multiple languages.\n",
        "\n",
        "Similar to Wav2Vec2, XLSR-Wav2Vec2 learns powerful speech representations from hundreds of thousands of hours of speech in more than 50 languages of unlabeled speech. Similar, to [BERT's masked language modeling](http://jalammar.github.io/illustrated-bert/), the model learns contextualized speech representations by randomly masking feature vectors before passing them to a transformer network.\n",
        "\n",
        "![wav2vec2_structure](https://raw.githubusercontent.com/patrickvonplaten/scientific_images/master/xlsr_wav2vec2.png)\n",
        "\n",
        "The authors show for the first time that massively pretraining an ASR model on cross-lingual unlabeled speech data, followed by language-specific fine-tuning on very little labeled data achieves state-of-the-art results. See Table 1-5 of the official [paper](https://arxiv.org/pdf/2006.13979.pdf)."
      ]
    },
    {
      "cell_type": "markdown",
      "metadata": {
        "id": "nT_QrfWtsxIz"
      },
      "source": [
        "In this notebook, we will give an in-detail explanation of how XLSR-Wav2Vec2's pretrained checkpoint can be fine-tuned on a low-resource ASR dataset of any language. Note that in this notebook, we will fine-tune XLSR-Wav2Vec2 without making use of a language model. It is much simpler and more efficient to use XLSR-Wav2Vec2 without a language model, but better results can be achieved by including a language model. \n",
        "\n",
        "For demonstration purposes, we fine-tune the [wav2vec2-large-xlsr-53](https://huggingface.co/facebook/wav2vec2-large-xlsr-53) on the low resource Turkish ASR dataset of [Common Voice](https://huggingface.co/datasets/common_voice) that contains just ~6h of validated training data."
      ]
    },
    {
      "cell_type": "markdown",
      "metadata": {
        "id": "Gx9OdDYrCtQ1"
      },
      "source": [
        "XLSR-Wav2Vec2 is fine-tuned using Connectionist Temporal Classification (CTC), which is an algorithm that is used to train neural networks for sequence-to-sequence problems and mainly in Automatic Speech Recognition and handwriting recognition. \n",
        "\n",
        "I highly recommend reading the blog post [Sequence Modeling with CTC (2017)](https://distill.pub/2017/ctc/) very well-written blog post by Awni Hannun."
      ]
    },
    {
      "cell_type": "markdown",
      "metadata": {
        "id": "e335hPmdtASZ"
      },
      "source": [
        "Before we start, let's install both `datasets` and `transformers` from master. Also, we need the `torchaudio` and `librosa` package to load audio files and the `jiwer` to evaluate our fine-tuned model using the [word error rate (WER)](https://huggingface.co/metrics/wer) metric ${}^1$."
      ]
    },
    {
      "cell_type": "code",
      "metadata": {
        "colab": {
          "base_uri": "https://localhost:8080/"
        },
        "id": "c8eh87Hoee5d",
        "scrolled": true,
        "outputId": "b2132c12-fec0-4c9d-8aaf-94974078c45a"
      },
      "source": [
        "!pip install datasets==1.4.1\n",
        "!pip install transformers==4.4.0\n",
        "!pip install torchaudio\n",
        "!pip install librosa\n",
        "!pip install jiwer\n",
        "!pip install path"
      ],
      "execution_count": 2,
      "outputs": [
        {
          "output_type": "stream",
          "text": [
            "Requirement already satisfied: datasets==1.4.1 in /usr/local/lib/python3.7/dist-packages (1.4.1)\n",
            "Requirement already satisfied: xxhash in /usr/local/lib/python3.7/dist-packages (from datasets==1.4.1) (2.0.0)\n",
            "Requirement already satisfied: pyarrow>=0.17.1 in /usr/local/lib/python3.7/dist-packages (from datasets==1.4.1) (3.0.0)\n",
            "Requirement already satisfied: fsspec in /usr/local/lib/python3.7/dist-packages (from datasets==1.4.1) (0.9.0)\n",
            "Requirement already satisfied: importlib-metadata; python_version < \"3.8\" in /usr/local/lib/python3.7/dist-packages (from datasets==1.4.1) (3.8.1)\n",
            "Requirement already satisfied: tqdm<4.50.0,>=4.27 in /usr/local/lib/python3.7/dist-packages (from datasets==1.4.1) (4.41.1)\n",
            "Requirement already satisfied: huggingface-hub==0.0.2 in /usr/local/lib/python3.7/dist-packages (from datasets==1.4.1) (0.0.2)\n",
            "Requirement already satisfied: dill in /usr/local/lib/python3.7/dist-packages (from datasets==1.4.1) (0.3.3)\n",
            "Requirement already satisfied: pandas in /usr/local/lib/python3.7/dist-packages (from datasets==1.4.1) (1.1.5)\n",
            "Requirement already satisfied: numpy>=1.17 in /usr/local/lib/python3.7/dist-packages (from datasets==1.4.1) (1.19.5)\n",
            "Requirement already satisfied: requests>=2.19.0 in /usr/local/lib/python3.7/dist-packages (from datasets==1.4.1) (2.23.0)\n",
            "Requirement already satisfied: multiprocess in /usr/local/lib/python3.7/dist-packages (from datasets==1.4.1) (0.70.11.1)\n",
            "Requirement already satisfied: zipp>=0.5 in /usr/local/lib/python3.7/dist-packages (from importlib-metadata; python_version < \"3.8\"->datasets==1.4.1) (3.4.1)\n",
            "Requirement already satisfied: typing-extensions>=3.6.4; python_version < \"3.8\" in /usr/local/lib/python3.7/dist-packages (from importlib-metadata; python_version < \"3.8\"->datasets==1.4.1) (3.7.4.3)\n",
            "Requirement already satisfied: filelock in /usr/local/lib/python3.7/dist-packages (from huggingface-hub==0.0.2->datasets==1.4.1) (3.0.12)\n",
            "Requirement already satisfied: pytz>=2017.2 in /usr/local/lib/python3.7/dist-packages (from pandas->datasets==1.4.1) (2018.9)\n",
            "Requirement already satisfied: python-dateutil>=2.7.3 in /usr/local/lib/python3.7/dist-packages (from pandas->datasets==1.4.1) (2.8.1)\n",
            "Requirement already satisfied: urllib3!=1.25.0,!=1.25.1,<1.26,>=1.21.1 in /usr/local/lib/python3.7/dist-packages (from requests>=2.19.0->datasets==1.4.1) (1.24.3)\n",
            "Requirement already satisfied: chardet<4,>=3.0.2 in /usr/local/lib/python3.7/dist-packages (from requests>=2.19.0->datasets==1.4.1) (3.0.4)\n",
            "Requirement already satisfied: idna<3,>=2.5 in /usr/local/lib/python3.7/dist-packages (from requests>=2.19.0->datasets==1.4.1) (2.10)\n",
            "Requirement already satisfied: certifi>=2017.4.17 in /usr/local/lib/python3.7/dist-packages (from requests>=2.19.0->datasets==1.4.1) (2020.12.5)\n",
            "Requirement already satisfied: six>=1.5 in /usr/local/lib/python3.7/dist-packages (from python-dateutil>=2.7.3->pandas->datasets==1.4.1) (1.15.0)\n",
            "Requirement already satisfied: transformers==4.4.0 in /usr/local/lib/python3.7/dist-packages (4.4.0)\n",
            "Requirement already satisfied: importlib-metadata; python_version < \"3.8\" in /usr/local/lib/python3.7/dist-packages (from transformers==4.4.0) (3.8.1)\n",
            "Requirement already satisfied: sacremoses in /usr/local/lib/python3.7/dist-packages (from transformers==4.4.0) (0.0.44)\n",
            "Requirement already satisfied: filelock in /usr/local/lib/python3.7/dist-packages (from transformers==4.4.0) (3.0.12)\n",
            "Requirement already satisfied: tokenizers<0.11,>=0.10.1 in /usr/local/lib/python3.7/dist-packages (from transformers==4.4.0) (0.10.2)\n",
            "Requirement already satisfied: packaging in /usr/local/lib/python3.7/dist-packages (from transformers==4.4.0) (20.9)\n",
            "Requirement already satisfied: regex!=2019.12.17 in /usr/local/lib/python3.7/dist-packages (from transformers==4.4.0) (2019.12.20)\n",
            "Requirement already satisfied: tqdm>=4.27 in /usr/local/lib/python3.7/dist-packages (from transformers==4.4.0) (4.41.1)\n",
            "Requirement already satisfied: numpy>=1.17 in /usr/local/lib/python3.7/dist-packages (from transformers==4.4.0) (1.19.5)\n",
            "Requirement already satisfied: requests in /usr/local/lib/python3.7/dist-packages (from transformers==4.4.0) (2.23.0)\n",
            "Requirement already satisfied: typing-extensions>=3.6.4; python_version < \"3.8\" in /usr/local/lib/python3.7/dist-packages (from importlib-metadata; python_version < \"3.8\"->transformers==4.4.0) (3.7.4.3)\n",
            "Requirement already satisfied: zipp>=0.5 in /usr/local/lib/python3.7/dist-packages (from importlib-metadata; python_version < \"3.8\"->transformers==4.4.0) (3.4.1)\n",
            "Requirement already satisfied: six in /usr/local/lib/python3.7/dist-packages (from sacremoses->transformers==4.4.0) (1.15.0)\n",
            "Requirement already satisfied: click in /usr/local/lib/python3.7/dist-packages (from sacremoses->transformers==4.4.0) (7.1.2)\n",
            "Requirement already satisfied: joblib in /usr/local/lib/python3.7/dist-packages (from sacremoses->transformers==4.4.0) (1.0.1)\n",
            "Requirement already satisfied: pyparsing>=2.0.2 in /usr/local/lib/python3.7/dist-packages (from packaging->transformers==4.4.0) (2.4.7)\n",
            "Requirement already satisfied: idna<3,>=2.5 in /usr/local/lib/python3.7/dist-packages (from requests->transformers==4.4.0) (2.10)\n",
            "Requirement already satisfied: chardet<4,>=3.0.2 in /usr/local/lib/python3.7/dist-packages (from requests->transformers==4.4.0) (3.0.4)\n",
            "Requirement already satisfied: certifi>=2017.4.17 in /usr/local/lib/python3.7/dist-packages (from requests->transformers==4.4.0) (2020.12.5)\n",
            "Requirement already satisfied: urllib3!=1.25.0,!=1.25.1,<1.26,>=1.21.1 in /usr/local/lib/python3.7/dist-packages (from requests->transformers==4.4.0) (1.24.3)\n",
            "Requirement already satisfied: torchaudio in /usr/local/lib/python3.7/dist-packages (0.8.1)\n",
            "Requirement already satisfied: torch==1.8.1 in /usr/local/lib/python3.7/dist-packages (from torchaudio) (1.8.1+cu101)\n",
            "Requirement already satisfied: typing-extensions in /usr/local/lib/python3.7/dist-packages (from torch==1.8.1->torchaudio) (3.7.4.3)\n",
            "Requirement already satisfied: numpy in /usr/local/lib/python3.7/dist-packages (from torch==1.8.1->torchaudio) (1.19.5)\n",
            "Requirement already satisfied: librosa in /usr/local/lib/python3.7/dist-packages (0.8.0)\n",
            "Requirement already satisfied: resampy>=0.2.2 in /usr/local/lib/python3.7/dist-packages (from librosa) (0.2.2)\n",
            "Requirement already satisfied: numpy>=1.15.0 in /usr/local/lib/python3.7/dist-packages (from librosa) (1.19.5)\n",
            "Requirement already satisfied: scikit-learn!=0.19.0,>=0.14.0 in /usr/local/lib/python3.7/dist-packages (from librosa) (0.22.2.post1)\n",
            "Requirement already satisfied: joblib>=0.14 in /usr/local/lib/python3.7/dist-packages (from librosa) (1.0.1)\n",
            "Requirement already satisfied: audioread>=2.0.0 in /usr/local/lib/python3.7/dist-packages (from librosa) (2.1.9)\n",
            "Requirement already satisfied: scipy>=1.0.0 in /usr/local/lib/python3.7/dist-packages (from librosa) (1.4.1)\n",
            "Requirement already satisfied: pooch>=1.0 in /usr/local/lib/python3.7/dist-packages (from librosa) (1.3.0)\n",
            "Requirement already satisfied: numba>=0.43.0 in /usr/local/lib/python3.7/dist-packages (from librosa) (0.51.2)\n",
            "Requirement already satisfied: soundfile>=0.9.0 in /usr/local/lib/python3.7/dist-packages (from librosa) (0.10.3.post1)\n",
            "Requirement already satisfied: decorator>=3.0.0 in /usr/local/lib/python3.7/dist-packages (from librosa) (4.4.2)\n",
            "Requirement already satisfied: six>=1.3 in /usr/local/lib/python3.7/dist-packages (from resampy>=0.2.2->librosa) (1.15.0)\n",
            "Requirement already satisfied: appdirs in /usr/local/lib/python3.7/dist-packages (from pooch>=1.0->librosa) (1.4.4)\n",
            "Requirement already satisfied: requests in /usr/local/lib/python3.7/dist-packages (from pooch>=1.0->librosa) (2.23.0)\n",
            "Requirement already satisfied: packaging in /usr/local/lib/python3.7/dist-packages (from pooch>=1.0->librosa) (20.9)\n",
            "Requirement already satisfied: setuptools in /usr/local/lib/python3.7/dist-packages (from numba>=0.43.0->librosa) (54.2.0)\n",
            "Requirement already satisfied: llvmlite<0.35,>=0.34.0.dev0 in /usr/local/lib/python3.7/dist-packages (from numba>=0.43.0->librosa) (0.34.0)\n",
            "Requirement already satisfied: cffi>=1.0 in /usr/local/lib/python3.7/dist-packages (from soundfile>=0.9.0->librosa) (1.14.5)\n",
            "Requirement already satisfied: chardet<4,>=3.0.2 in /usr/local/lib/python3.7/dist-packages (from requests->pooch>=1.0->librosa) (3.0.4)\n",
            "Requirement already satisfied: idna<3,>=2.5 in /usr/local/lib/python3.7/dist-packages (from requests->pooch>=1.0->librosa) (2.10)\n",
            "Requirement already satisfied: urllib3!=1.25.0,!=1.25.1,<1.26,>=1.21.1 in /usr/local/lib/python3.7/dist-packages (from requests->pooch>=1.0->librosa) (1.24.3)\n",
            "Requirement already satisfied: certifi>=2017.4.17 in /usr/local/lib/python3.7/dist-packages (from requests->pooch>=1.0->librosa) (2020.12.5)\n",
            "Requirement already satisfied: pyparsing>=2.0.2 in /usr/local/lib/python3.7/dist-packages (from packaging->pooch>=1.0->librosa) (2.4.7)\n",
            "Requirement already satisfied: pycparser in /usr/local/lib/python3.7/dist-packages (from cffi>=1.0->soundfile>=0.9.0->librosa) (2.20)\n",
            "Requirement already satisfied: jiwer in /usr/local/lib/python3.7/dist-packages (2.2.0)\n",
            "Requirement already satisfied: numpy in /usr/local/lib/python3.7/dist-packages (from jiwer) (1.19.5)\n",
            "Requirement already satisfied: python-Levenshtein in /usr/local/lib/python3.7/dist-packages (from jiwer) (0.12.2)\n",
            "Requirement already satisfied: setuptools in /usr/local/lib/python3.7/dist-packages (from python-Levenshtein->jiwer) (54.2.0)\n",
            "Requirement already satisfied: path in /usr/local/lib/python3.7/dist-packages (15.1.2)\n"
          ],
          "name": "stdout"
        }
      ]
    },
    {
      "cell_type": "code",
      "metadata": {
        "colab": {
          "base_uri": "https://localhost:8080/",
          "height": 36
        },
        "id": "68FTy8DeMz1Z",
        "outputId": "72786fe4-5380-4c98-9a0a-b9e67371f0e5"
      },
      "source": [
        "import datasets\n",
        "\n",
        "datasets.__version__"
      ],
      "execution_count": 3,
      "outputs": [
        {
          "output_type": "execute_result",
          "data": {
            "application/vnd.google.colaboratory.intrinsic+json": {
              "type": "string"
            },
            "text/plain": [
              "'1.4.1'"
            ]
          },
          "metadata": {
            "tags": []
          },
          "execution_count": 3
        }
      ]
    },
    {
      "cell_type": "code",
      "metadata": {
        "id": "R06pt78dq8HT"
      },
      "source": [
        "from datasets import ClassLabel, load_dataset, load_metric, Dataset\n",
        "import random\n",
        "import pandas as pd, numpy as np\n",
        "from IPython.display import display, HTML\n",
        "import os\n",
        "import path\n",
        "import json\n",
        "import torchaudio, torch\n",
        "import librosa\n",
        "\n",
        "from transformers import Wav2Vec2CTCTokenizer\n",
        "\n",
        "from transformers import Wav2Vec2FeatureExtractor\n",
        "\n",
        "from transformers import Wav2Vec2Processor"
      ],
      "execution_count": 4,
      "outputs": []
    },
    {
      "cell_type": "markdown",
      "metadata": {
        "id": "Mn9swf6EQ9Vd"
      },
      "source": [
        "\n",
        "\n",
        "\n",
        "---\n",
        "\n",
        "${}^1$ In the [paper](https://arxiv.org/pdf/2006.13979.pdf), the model was evaluated using the phoneme error rate (PER), but by far the most common metric in ASR is the word error rate (WER). To keep this notebook as general as possible we decided to evaluate the model using WER."
      ]
    },
    {
      "cell_type": "markdown",
      "metadata": {
        "id": "0mW-C1Nt-j7k"
      },
      "source": [
        "## Prepare Data, Tokenizer, Feature Extractor"
      ]
    },
    {
      "cell_type": "markdown",
      "metadata": {
        "id": "BeBosnY9BH3e"
      },
      "source": [
        "ASR models transcribe speech to text, which means that we both need a feature extractor that processes the speech signal to the model's input format, *e.g.* a feature vector, and a tokenizer that processes the model's output format to text. \n",
        "\n",
        "In 🤗 Transformers, the XLSR-Wav2Vec2 model is thus accompanied by both a tokenizer, called [Wav2Vec2CTCTokenizer](https://huggingface.co/transformers/master/model_doc/wav2vec2.html#wav2vec2ctctokenizer), and a feature extractor, called [Wav2Vec2FeatureExtractor](https://huggingface.co/transformers/master/model_doc/wav2vec2.html#wav2vec2featureextractor).\n",
        "\n",
        "Let's start by creating the tokenizer responsible for decoding the model's predictions."
      ]
    },
    {
      "cell_type": "markdown",
      "metadata": {
        "id": "sEXEWEJGQPqD"
      },
      "source": [
        "### Create Wav2Vec2CTCTokenizer"
      ]
    },
    {
      "cell_type": "markdown",
      "metadata": {
        "id": "tWmMikuNEKl_"
      },
      "source": [
        "The [pretrained Wav2Vec2 checkpoint]( ) maps the speech signal to a sequence of context representations as illustrated in the figure above. A fine-tuned XLSR-Wav2Vec2 checkpoint needs to map this sequence of context representations to its corresponding transcription so that a linear layer has to be added on top of the transformer block (shown in yellow). This linear layer is used to classifies each context representation to a token class analogous how, *e.g.*, after pretraining a linear layer is added on top of BERT's embeddings for further classification - *cf.* with *\"BERT\"* section of this [blog post](https://huggingface.co/blog/warm-starting-encoder-decoder).\n",
        "\n",
        "The output size of this layer corresponds to the number of tokens in the vocabulary, which does **not** depend on XLSR-Wav2Vec2's pretraining task, but only on the labeled dataset used for fine-tuning. So in the first step, we will take a look at Common Voice and define a vocabulary based on the dataset's transcriptions."
      ]
    },
    {
      "cell_type": "markdown",
      "metadata": {
        "id": "idBczw8mWzgt"
      },
      "source": [
        "First, let's go to [Common Voice](https://commonvoice.mozilla.org/en/datasets) and pick a language to fine-tune XLSR-Wav2Vec2 on. For this notebook, we will use Turkish. \n",
        "\n",
        "For each language-specific dataset, you can find a language code corresponding to your chosen language. On [Common Voice](https://commonvoice.mozilla.org/en/datasets), look for the field \"Version\". The language code then corresponds to the prefix before the underscore. For Turkish, *e.g.* the language code is `\"tr\"`.\n",
        "\n",
        "Great, now we can use 🤗 Datasets' simple API to download the data. The dataset name will be `\"common_voice\"`, the config name corresponds to the language code - `\"tr\"` in our case."
      ]
    },
    {
      "cell_type": "markdown",
      "metadata": {
        "id": "bee4g9rpLxll"
      },
      "source": [
        "Common Voice has many different splits including `invalidated`, which refers to data that was not rated as \"clean enough\" to be considered useful. In this notebook, we will only make use of the splits `\"train\"`, `\"validation\"` and `\"test\"`. \n",
        "\n",
        "Because the Turkish dataset is so small, we will merge both the validation and training data into a training dataset and simply use the test data for validation."
      ]
    },
    {
      "cell_type": "markdown",
      "metadata": {
        "id": "ri5y5N_HMANq"
      },
      "source": [
        "Many ASR datasets only provide the target text, `'sentence'` for each audio file `'path'`. Common Voice actually provides much more information about each audio file, such as the `'accent'`, etc. However, we want to keep the notebook as general as possible, so that we will only consider the transcribed text for fine-tuning.\n",
        "\n"
      ]
    },
    {
      "cell_type": "code",
      "metadata": {
        "colab": {
          "base_uri": "https://localhost:8080/"
        },
        "id": "cC3bpbBqq8HY",
        "outputId": "4502e6ba-e808-4605-a073-2097835e6b2d"
      },
      "source": [
        "#----- Input Files-#\n",
        "\n",
        "#parent_dir = path.Path(os.getcwd())\n",
        "\n",
        "parent_dir = path.Path(os.getcwd())\n",
        "\n",
        "print(parent_dir)\n",
        "\n",
        "train_fname = os.path.join(parent_dir, \"data\", \"model_inputs\", \"train_openslr.tsv\")\n",
        "\n",
        "test_fname = os.path.join(parent_dir, \"data\", \"model_inputs\", \"test_openslr.tsv\")\n",
        "\n",
        "#----------- Output Files----------#\n",
        "vocab_fname = os.path.join(parent_dir, \"data\", \"model_inputs\", \"vocab.json\")\n",
        "\n",
        "processed_train = os.path.join(parent_dir, \"data\", \"model_inputs\", \"processed_train.pickle\")\n",
        "\n",
        "processed_test = os.path.join(parent_dir, \"data\", \"model_inputs\", \"processed_test.pickle\")\n",
        "\n",
        "model_output_dir = os.path.join(parent_dir, \"data\", \"models\")"
      ],
      "execution_count": 5,
      "outputs": [
        {
          "output_type": "stream",
          "text": [
            "/content/gdrive/MyDrive/Colab Notebooks/shabdavedi\n"
          ],
          "name": "stdout"
        }
      ]
    },
    {
      "cell_type": "code",
      "metadata": {
        "colab": {
          "base_uri": "https://localhost:8080/",
          "height": 381
        },
        "id": "kbyq6lDgQc2a",
        "outputId": "f1b673e7-cb98-40ef-e2c2-a52752b59bbc"
      },
      "source": [
        "train_df = pd.read_csv(train_fname, sep=\"\\t\", encoding=\"utf-8\")\n",
        "\n",
        "test_df = pd.read_csv(test_fname, sep=\"\\t\", encoding=\"utf-8\")\n",
        "\n",
        "print(train_df.shape, test_df.shape)\n",
        "train_df.sample(10)"
      ],
      "execution_count": 6,
      "outputs": [
        {
          "output_type": "stream",
          "text": [
            "(3520, 2) (880, 2)\n"
          ],
          "name": "stdout"
        },
        {
          "output_type": "execute_result",
          "data": {
            "text/html": [
              "<div>\n",
              "<style scoped>\n",
              "    .dataframe tbody tr th:only-of-type {\n",
              "        vertical-align: middle;\n",
              "    }\n",
              "\n",
              "    .dataframe tbody tr th {\n",
              "        vertical-align: top;\n",
              "    }\n",
              "\n",
              "    .dataframe thead th {\n",
              "        text-align: right;\n",
              "    }\n",
              "</style>\n",
              "<table border=\"1\" class=\"dataframe\">\n",
              "  <thead>\n",
              "    <tr style=\"text-align: right;\">\n",
              "      <th></th>\n",
              "      <th>path</th>\n",
              "      <th>sentence</th>\n",
              "    </tr>\n",
              "  </thead>\n",
              "  <tbody>\n",
              "    <tr>\n",
              "      <th>23</th>\n",
              "      <td>/content/gdrive/My Drive/Colab Notebooks/shabd...</td>\n",
              "      <td>ಇದನ್ನು ಮೊಬೈಲ್ ಸರ್ವೀಸಿಂಗ್ ಸಿಸ್ಟಮ್ ಎಂದು ಕರೆಯಲಾಗು...</td>\n",
              "    </tr>\n",
              "    <tr>\n",
              "      <th>600</th>\n",
              "      <td>/content/gdrive/My Drive/Colab Notebooks/shabd...</td>\n",
              "      <td>ಆದ್ದರಿಂದ ದೊಡ್ಡ ದೊಡ್ಡ ಕೈಗಾರಿಕೆ ಮತ್ತು ಇತರ ಉದ್ಯಮಗ...</td>\n",
              "    </tr>\n",
              "    <tr>\n",
              "      <th>2730</th>\n",
              "      <td>/content/gdrive/My Drive/Colab Notebooks/shabd...</td>\n",
              "      <td>ಅಕ್ರಮವಾದ ತಿದ್ದುವಿಕೆಯನ್ನು ಪತ್ತೆಹಚ್ಚುವುದಕ್ಕೆ (ದೃ...</td>\n",
              "    </tr>\n",
              "    <tr>\n",
              "      <th>1378</th>\n",
              "      <td>/content/gdrive/My Drive/Colab Notebooks/shabd...</td>\n",
              "      <td>ಬುದ್ಧನಿಂದ ಭಿಕ್ಷುದೀಕ್ಷೆಯನ್ನು ಪಡೆದು ಸಂಘವನ್ನು ಸೇರ...</td>\n",
              "    </tr>\n",
              "    <tr>\n",
              "      <th>1891</th>\n",
              "      <td>/content/gdrive/My Drive/Colab Notebooks/shabd...</td>\n",
              "      <td>ದಕ್ಷಿಣಕ್ಕೆ ಸಾಗಿ</td>\n",
              "    </tr>\n",
              "    <tr>\n",
              "      <th>2589</th>\n",
              "      <td>/content/gdrive/My Drive/Colab Notebooks/shabd...</td>\n",
              "      <td>ವಿಭಾಗೀಯ ಕೇಂದ್ರದ ಸೌಲಭ್ಯವೊಂದು ತನಗೆ ನಿಗದಿಮಾಡಲಾಗಿರ...</td>\n",
              "    </tr>\n",
              "    <tr>\n",
              "      <th>3299</th>\n",
              "      <td>/content/gdrive/My Drive/Colab Notebooks/shabd...</td>\n",
              "      <td>ರೋಮನ್ ಅಂಕಿಗಳು ಬಹು ಪ್ರಾಚೀನ ಕಾಲದಿಂದಲೂ ಬಳಕೆಯಲ್ಲಿದ್ದು</td>\n",
              "    </tr>\n",
              "    <tr>\n",
              "      <th>451</th>\n",
              "      <td>/content/gdrive/My Drive/Colab Notebooks/shabd...</td>\n",
              "      <td>ಇದರಿಂದ ಯುದ್ಧಗಳು ಕಡಿಮೆಯಾಗಿ ಶಾಂತಿನೆಮ್ಮದಿ ನೆಲಸುತ್...</td>\n",
              "    </tr>\n",
              "    <tr>\n",
              "      <th>1623</th>\n",
              "      <td>/content/gdrive/My Drive/Colab Notebooks/shabd...</td>\n",
              "      <td>ಅಸ್ಥಿ ಸಂಘಾತಗಳು 14, ಎರಡಕ್ಕಿಂತ ಹೆಚ್ಚು ಮೂಳೆಗಳು ಸಂ...</td>\n",
              "    </tr>\n",
              "    <tr>\n",
              "      <th>2854</th>\n",
              "      <td>/content/gdrive/My Drive/Colab Notebooks/shabd...</td>\n",
              "      <td>ಕಾರ್ಟೆಲ್ಲುಗಳು ಮೂರು ರೂಪದಲ್ಲಿರಬಹುದು</td>\n",
              "    </tr>\n",
              "  </tbody>\n",
              "</table>\n",
              "</div>"
            ],
            "text/plain": [
              "                                                   path                                           sentence\n",
              "23    /content/gdrive/My Drive/Colab Notebooks/shabd...  ಇದನ್ನು ಮೊಬೈಲ್ ಸರ್ವೀಸಿಂಗ್ ಸಿಸ್ಟಮ್ ಎಂದು ಕರೆಯಲಾಗು...\n",
              "600   /content/gdrive/My Drive/Colab Notebooks/shabd...  ಆದ್ದರಿಂದ ದೊಡ್ಡ ದೊಡ್ಡ ಕೈಗಾರಿಕೆ ಮತ್ತು ಇತರ ಉದ್ಯಮಗ...\n",
              "2730  /content/gdrive/My Drive/Colab Notebooks/shabd...  ಅಕ್ರಮವಾದ ತಿದ್ದುವಿಕೆಯನ್ನು ಪತ್ತೆಹಚ್ಚುವುದಕ್ಕೆ (ದೃ...\n",
              "1378  /content/gdrive/My Drive/Colab Notebooks/shabd...  ಬುದ್ಧನಿಂದ ಭಿಕ್ಷುದೀಕ್ಷೆಯನ್ನು ಪಡೆದು ಸಂಘವನ್ನು ಸೇರ...\n",
              "1891  /content/gdrive/My Drive/Colab Notebooks/shabd...                                    ದಕ್ಷಿಣಕ್ಕೆ ಸಾಗಿ\n",
              "2589  /content/gdrive/My Drive/Colab Notebooks/shabd...  ವಿಭಾಗೀಯ ಕೇಂದ್ರದ ಸೌಲಭ್ಯವೊಂದು ತನಗೆ ನಿಗದಿಮಾಡಲಾಗಿರ...\n",
              "3299  /content/gdrive/My Drive/Colab Notebooks/shabd...  ರೋಮನ್ ಅಂಕಿಗಳು ಬಹು ಪ್ರಾಚೀನ ಕಾಲದಿಂದಲೂ ಬಳಕೆಯಲ್ಲಿದ್ದು\n",
              "451   /content/gdrive/My Drive/Colab Notebooks/shabd...  ಇದರಿಂದ ಯುದ್ಧಗಳು ಕಡಿಮೆಯಾಗಿ ಶಾಂತಿನೆಮ್ಮದಿ ನೆಲಸುತ್...\n",
              "1623  /content/gdrive/My Drive/Colab Notebooks/shabd...  ಅಸ್ಥಿ ಸಂಘಾತಗಳು 14, ಎರಡಕ್ಕಿಂತ ಹೆಚ್ಚು ಮೂಳೆಗಳು ಸಂ...\n",
              "2854  /content/gdrive/My Drive/Colab Notebooks/shabd...                  ಕಾರ್ಟೆಲ್ಲುಗಳು ಮೂರು ರೂಪದಲ್ಲಿರಬಹುದು"
            ]
          },
          "metadata": {
            "tags": []
          },
          "execution_count": 6
        }
      ]
    },
    {
      "cell_type": "code",
      "metadata": {
        "colab": {
          "base_uri": "https://localhost:8080/",
          "height": 363
        },
        "id": "hpEWPuH9q8Ha",
        "scrolled": true,
        "outputId": "62fca040-34d4-428f-e564-2a72b1a2ed4e"
      },
      "source": [
        "test_df.sample(10)"
      ],
      "execution_count": 7,
      "outputs": [
        {
          "output_type": "execute_result",
          "data": {
            "text/html": [
              "<div>\n",
              "<style scoped>\n",
              "    .dataframe tbody tr th:only-of-type {\n",
              "        vertical-align: middle;\n",
              "    }\n",
              "\n",
              "    .dataframe tbody tr th {\n",
              "        vertical-align: top;\n",
              "    }\n",
              "\n",
              "    .dataframe thead th {\n",
              "        text-align: right;\n",
              "    }\n",
              "</style>\n",
              "<table border=\"1\" class=\"dataframe\">\n",
              "  <thead>\n",
              "    <tr style=\"text-align: right;\">\n",
              "      <th></th>\n",
              "      <th>path</th>\n",
              "      <th>sentence</th>\n",
              "    </tr>\n",
              "  </thead>\n",
              "  <tbody>\n",
              "    <tr>\n",
              "      <th>448</th>\n",
              "      <td>/content/gdrive/My Drive/Colab Notebooks/shabd...</td>\n",
              "      <td>ವೃತ್ತದಲ್ಲಿ, ಒಂದನೇ ನಿರ್ಗಮನವನ್ನು ತೆಗೆದುಕೊಳ್ಳಿ</td>\n",
              "    </tr>\n",
              "    <tr>\n",
              "      <th>156</th>\n",
              "      <td>/content/gdrive/My Drive/Colab Notebooks/shabd...</td>\n",
              "      <td>ಅಂತರರಾಷ್ಟ್ರೀಯ ಬಾಹ್ಯಾಕಾಶ ನಿಲ್ದಾಣದ ಸಂಶೋಧನಾ ಸಾಮರ್...</td>\n",
              "    </tr>\n",
              "    <tr>\n",
              "      <th>721</th>\n",
              "      <td>/content/gdrive/My Drive/Colab Notebooks/shabd...</td>\n",
              "      <td>ಪೂರಣವಾದ ವಸ್ತು ಅಥವಾ ಇದರ ಪೂರಣವಾದ ಅಣುವಿನ ಭಾಗಗಳು ನ...</td>\n",
              "    </tr>\n",
              "    <tr>\n",
              "      <th>387</th>\n",
              "      <td>/content/gdrive/My Drive/Colab Notebooks/shabd...</td>\n",
              "      <td>ಈ ಗ್ರಾಮವು ಬೆಂಗಳೂರು ಮತ್ತು ಮಳವಳ್ಳಿಯ ಹೆದ್ದಾರಿ ಸಂಖ...</td>\n",
              "    </tr>\n",
              "    <tr>\n",
              "      <th>480</th>\n",
              "      <td>/content/gdrive/My Drive/Colab Notebooks/shabd...</td>\n",
              "      <td>ತೋಳ</td>\n",
              "    </tr>\n",
              "    <tr>\n",
              "      <th>159</th>\n",
              "      <td>/content/gdrive/My Drive/Colab Notebooks/shabd...</td>\n",
              "      <td>ಐನೂರು ಮೀಟರ್‌ಗಳಲ್ಲಿ</td>\n",
              "    </tr>\n",
              "    <tr>\n",
              "      <th>312</th>\n",
              "      <td>/content/gdrive/My Drive/Colab Notebooks/shabd...</td>\n",
              "      <td>ಗುರುತ್ವಾಕರ್ಷಣೆಯ ಸ್ಥಳದಿಂದ ಒಂದು ಭೌತಿಕ ವಸ್ತು ಮತ್ತ...</td>\n",
              "    </tr>\n",
              "    <tr>\n",
              "      <th>357</th>\n",
              "      <td>/content/gdrive/My Drive/Colab Notebooks/shabd...</td>\n",
              "      <td>ಆಮೇಲೆ ಇದು ಮೌರ್ಯಸಾಮ್ರಾಜ್ಯದ ಭಾಗವಾಯಿತು.</td>\n",
              "    </tr>\n",
              "    <tr>\n",
              "      <th>278</th>\n",
              "      <td>/content/gdrive/My Drive/Colab Notebooks/shabd...</td>\n",
              "      <td>ಅಂತಹ ಸಂಭವವು ಎದುರಾದಾಗ ಅವರು ‘ದೀಪ-ದೀಪೋಳ್ಗೆ ‘ ಎಂದು...</td>\n",
              "    </tr>\n",
              "    <tr>\n",
              "      <th>823</th>\n",
              "      <td>/content/gdrive/My Drive/Colab Notebooks/shabd...</td>\n",
              "      <td>ಅಂಟಿಸಬೇಕೆಂದಿರುವ ವಸ್ತುವಿನ ಮೈಮೇಲೆ ಹಚ್ಚಿದ ಅಂಟು</td>\n",
              "    </tr>\n",
              "  </tbody>\n",
              "</table>\n",
              "</div>"
            ],
            "text/plain": [
              "                                                  path                                           sentence\n",
              "448  /content/gdrive/My Drive/Colab Notebooks/shabd...        ವೃತ್ತದಲ್ಲಿ, ಒಂದನೇ ನಿರ್ಗಮನವನ್ನು ತೆಗೆದುಕೊಳ್ಳಿ\n",
              "156  /content/gdrive/My Drive/Colab Notebooks/shabd...  ಅಂತರರಾಷ್ಟ್ರೀಯ ಬಾಹ್ಯಾಕಾಶ ನಿಲ್ದಾಣದ ಸಂಶೋಧನಾ ಸಾಮರ್...\n",
              "721  /content/gdrive/My Drive/Colab Notebooks/shabd...  ಪೂರಣವಾದ ವಸ್ತು ಅಥವಾ ಇದರ ಪೂರಣವಾದ ಅಣುವಿನ ಭಾಗಗಳು ನ...\n",
              "387  /content/gdrive/My Drive/Colab Notebooks/shabd...  ಈ ಗ್ರಾಮವು ಬೆಂಗಳೂರು ಮತ್ತು ಮಳವಳ್ಳಿಯ ಹೆದ್ದಾರಿ ಸಂಖ...\n",
              "480  /content/gdrive/My Drive/Colab Notebooks/shabd...                                                ತೋಳ\n",
              "159  /content/gdrive/My Drive/Colab Notebooks/shabd...                                 ಐನೂರು ಮೀಟರ್‌ಗಳಲ್ಲಿ\n",
              "312  /content/gdrive/My Drive/Colab Notebooks/shabd...  ಗುರುತ್ವಾಕರ್ಷಣೆಯ ಸ್ಥಳದಿಂದ ಒಂದು ಭೌತಿಕ ವಸ್ತು ಮತ್ತ...\n",
              "357  /content/gdrive/My Drive/Colab Notebooks/shabd...               ಆಮೇಲೆ ಇದು ಮೌರ್ಯಸಾಮ್ರಾಜ್ಯದ ಭಾಗವಾಯಿತು.\n",
              "278  /content/gdrive/My Drive/Colab Notebooks/shabd...  ಅಂತಹ ಸಂಭವವು ಎದುರಾದಾಗ ಅವರು ‘ದೀಪ-ದೀಪೋಳ್ಗೆ ‘ ಎಂದು...\n",
              "823  /content/gdrive/My Drive/Colab Notebooks/shabd...        ಅಂಟಿಸಬೇಕೆಂದಿರುವ ವಸ್ತುವಿನ ಮೈಮೇಲೆ ಹಚ್ಚಿದ ಅಂಟು"
            ]
          },
          "metadata": {
            "tags": []
          },
          "execution_count": 7
        }
      ]
    },
    {
      "cell_type": "markdown",
      "metadata": {
        "id": "Go9Hq4e4NDT9"
      },
      "source": [
        "Let's write a short function to display some random samples of the dataset and run it a couple of times to get a feeling for the transcriptions."
      ]
    },
    {
      "cell_type": "markdown",
      "metadata": {
        "id": "fowcOllGNNju"
      },
      "source": [
        "Alright! The transcriptions look fairly clean. Having translated the transcribed sentences (I'm sadly not a native speaker in Turkish), it seems that the language corresponds more to written text than noisy dialogue. This makes sense taking into account that [Common Voice](https://huggingface.co/datasets/common_voice) is a crowd-sourced read speech corpus."
      ]
    },
    {
      "cell_type": "markdown",
      "metadata": {
        "id": "vq7OR50LN49m"
      },
      "source": [
        "We can see that the transcriptions contain some special characters, such as `,.?!;:`. Without a language model, it is much harder to classify speech chunks to such special characters because they don't really correspond to a characteristic sound unit. *E.g.*, the letter `\"s\"` has a more or less clear sound, whereas the special character `\".\"` does not.\n",
        "Also in order to understand the meaning of a speech signal, it is usually not necessary to include special characters in the transcription.\n",
        "\n",
        "In addition, we normalize the text to only have lower case letters and append a word separator token at the end."
      ]
    },
    {
      "cell_type": "markdown",
      "metadata": {
        "id": "svKzVJ_hQGK6"
      },
      "source": [
        "import re\n",
        "chars_to_ignore_regex = '[\\,\\?\\.\\!\\-\\;\\:\\\"\\“\\%\\‘\\”\\�]'\n",
        "\n",
        "def remove_special_characters(batch):\n",
        "    batch[\"sentence\"] = re.sub(chars_to_ignore_regex, '', batch[\"sentence\"]).lower() + \" \"\n",
        "    return batch"
      ]
    },
    {
      "cell_type": "markdown",
      "metadata": {
        "id": "XIHocAuTQbBR",
        "outputId": "cc1a70b2-7b4d-410b-f997-1f1c47c3c9e5"
      },
      "source": [
        "common_voice_train = common_voice_train.map(remove_special_characters)\n",
        "common_voice_test = common_voice_test.map(remove_special_characters)"
      ]
    },
    {
      "cell_type": "markdown",
      "metadata": {
        "id": "RBDRAAYxRE6n",
        "outputId": "c3a72eaa-8ddc-4283-ccb8-52e50215b84d",
        "scrolled": true
      },
      "source": [
        "show_random_elements(common_voice_train.remove_columns([\"path\"]))"
      ]
    },
    {
      "cell_type": "markdown",
      "metadata": {
        "id": "jwfaptH5RJwA"
      },
      "source": [
        "Good! This looks better. We have removed most special characters from transcriptions and normalized them to lower-case only.\n",
        "\n",
        "In CTC, it is common to classify speech chunks into letters, so we will do the same here. \n",
        "Let's extract all distinct letters of the training and test data and build our vocabulary from this set of letters.\n",
        "\n",
        "We write a mapping function that concatenates all transcriptions into one long transcription and then transforms the string into a set of chars. \n",
        "It is important to pass the argument `batched=True` to the `map(...)` function so that the mapping function has access to all transcriptions at once."
      ]
    },
    {
      "cell_type": "code",
      "metadata": {
        "id": "LwCshNbbeRZR"
      },
      "source": [
        "def extract_all_chars(batch):\n",
        "  all_text = \" \".join(batch[\"sentence\"])\n",
        "  vocab = list(set(all_text))\n",
        "  return {\"vocab\": [vocab], \"all_text\": [all_text]}\n",
        "\n",
        "def get_vocab(df):\n",
        "    \n",
        "    all_sents = df[\"sentence\"].tolist()\n",
        "    \n",
        "    all_in_one_sent = []\n",
        "    \n",
        "    for x in all_sents:\n",
        "        \n",
        "        all_in_one_sent += x\n",
        "    \n",
        "    return set(all_in_one_sent)"
      ],
      "execution_count": 8,
      "outputs": []
    },
    {
      "cell_type": "code",
      "metadata": {
        "colab": {
          "base_uri": "https://localhost:8080/"
        },
        "id": "_m6uUjjcfbjH",
        "scrolled": true,
        "outputId": "842846cc-56cc-40f1-a1c0-36d020032399"
      },
      "source": [
        "# vocab_train = train_df.apply(extract_all_chars, axis=1)\n",
        "\n",
        "# vocab_test = test_df.apply(extract_all_chars, axis=1)\n",
        "\n",
        "vocab_train = get_vocab(train_df)\n",
        "\n",
        "len(vocab_train)\n",
        "\n",
        "vocab_test = get_vocab(test_df)\n",
        "\n",
        "len(vocab_test)\n",
        "\n",
        "vocab_list = list(set(vocab_train.union(vocab_test)))\n",
        "\n",
        "print(len(vocab_list))\n",
        "\n",
        "vocab_list"
      ],
      "execution_count": 9,
      "outputs": [
        {
          "output_type": "stream",
          "text": [
            "106\n"
          ],
          "name": "stdout"
        },
        {
          "output_type": "execute_result",
          "data": {
            "text/plain": [
              "['೪',\n",
              " 'ತ',\n",
              " '೯',\n",
              " '೦',\n",
              " ',',\n",
              " 'ಸ',\n",
              " 't',\n",
              " 'ಏ',\n",
              " 'ಯ',\n",
              " 'ೀ',\n",
              " 'ಥ',\n",
              " 'ೆ',\n",
              " 'ಶ',\n",
              " 'ಞ',\n",
              " ')',\n",
              " \"'\",\n",
              " '3',\n",
              " '6',\n",
              " ' ',\n",
              " 'ೇ',\n",
              " 'ಕ',\n",
              " '1',\n",
              " 'ಋ',\n",
              " '8',\n",
              " '\\u200c',\n",
              " 'ೌ',\n",
              " '(',\n",
              " 'ಫ',\n",
              " 'ನ',\n",
              " 'ಡ',\n",
              " 'ಐ',\n",
              " 'ಷ',\n",
              " '೮',\n",
              " ';',\n",
              " 'ಎ',\n",
              " '?',\n",
              " 'l',\n",
              " 'ಟ',\n",
              " 'ಆ',\n",
              " 'ಂ',\n",
              " 'ಖ',\n",
              " 'e',\n",
              " '೫',\n",
              " 'ಿ',\n",
              " 'ಇ',\n",
              " 'ಘ',\n",
              " 'ಭ',\n",
              " 'ಒ',\n",
              " 'ಣ',\n",
              " 'x',\n",
              " '\\u200d',\n",
              " 'ದ',\n",
              " 'ರ',\n",
              " '/',\n",
              " 'ಝ',\n",
              " 'ಧ',\n",
              " 'ಈ',\n",
              " 'ಲ',\n",
              " ':',\n",
              " 'ಠ',\n",
              " 'ಓ',\n",
              " 'ಾ',\n",
              " '೬',\n",
              " 'ಛ',\n",
              " '’',\n",
              " 'ೋ',\n",
              " 'ು',\n",
              " 'r',\n",
              " 'ಅ',\n",
              " '_',\n",
              " '7',\n",
              " 'ಔ',\n",
              " '-',\n",
              " '್',\n",
              " '‘',\n",
              " '0',\n",
              " '೩',\n",
              " '5',\n",
              " 'ೂ',\n",
              " 'ಜ',\n",
              " '2',\n",
              " '೭',\n",
              " '.',\n",
              " 'ಪ',\n",
              " '೨',\n",
              " 'ೊ',\n",
              " 'ಢ',\n",
              " 'ಊ',\n",
              " 'U',\n",
              " 'ಙ',\n",
              " 'ಮ',\n",
              " 'ವ',\n",
              " 'ೈ',\n",
              " '9',\n",
              " '4',\n",
              " 'ಬ',\n",
              " 'ಉ',\n",
              " 'ಃ',\n",
              " 'I',\n",
              " '೧',\n",
              " 'ೃ',\n",
              " 'ಗ',\n",
              " 'n',\n",
              " 'ಹ',\n",
              " 'ಳ',\n",
              " 'ಚ']"
            ]
          },
          "metadata": {
            "tags": []
          },
          "execution_count": 9
        }
      ]
    },
    {
      "cell_type": "markdown",
      "metadata": {
        "id": "7oVgE8RZSJNP"
      },
      "source": [
        "Now, we create the union of all distinct letters in the training dataset and test dataset and convert the resulting list into an enumerated dictionary."
      ]
    },
    {
      "cell_type": "code",
      "metadata": {
        "colab": {
          "base_uri": "https://localhost:8080/"
        },
        "id": "_0kRndSvqaKk",
        "scrolled": true,
        "outputId": "0a86335c-43a3-4ddf-c3b7-eb6b98c43eb1"
      },
      "source": [
        "vocab_dict = {v: k for k, v in enumerate(vocab_list)}\n",
        "vocab_dict"
      ],
      "execution_count": 10,
      "outputs": [
        {
          "output_type": "execute_result",
          "data": {
            "text/plain": [
              "{' ': 18,\n",
              " \"'\": 15,\n",
              " '(': 26,\n",
              " ')': 14,\n",
              " ',': 4,\n",
              " '-': 72,\n",
              " '.': 82,\n",
              " '/': 53,\n",
              " '0': 75,\n",
              " '1': 21,\n",
              " '2': 80,\n",
              " '3': 16,\n",
              " '4': 94,\n",
              " '5': 77,\n",
              " '6': 17,\n",
              " '7': 70,\n",
              " '8': 23,\n",
              " '9': 93,\n",
              " ':': 58,\n",
              " ';': 33,\n",
              " '?': 35,\n",
              " 'I': 98,\n",
              " 'U': 88,\n",
              " '_': 69,\n",
              " 'e': 41,\n",
              " 'l': 36,\n",
              " 'n': 102,\n",
              " 'r': 67,\n",
              " 't': 6,\n",
              " 'x': 49,\n",
              " 'ಂ': 39,\n",
              " 'ಃ': 97,\n",
              " 'ಅ': 68,\n",
              " 'ಆ': 38,\n",
              " 'ಇ': 44,\n",
              " 'ಈ': 56,\n",
              " 'ಉ': 96,\n",
              " 'ಊ': 87,\n",
              " 'ಋ': 22,\n",
              " 'ಎ': 34,\n",
              " 'ಏ': 7,\n",
              " 'ಐ': 30,\n",
              " 'ಒ': 47,\n",
              " 'ಓ': 60,\n",
              " 'ಔ': 71,\n",
              " 'ಕ': 20,\n",
              " 'ಖ': 40,\n",
              " 'ಗ': 101,\n",
              " 'ಘ': 45,\n",
              " 'ಙ': 89,\n",
              " 'ಚ': 105,\n",
              " 'ಛ': 63,\n",
              " 'ಜ': 79,\n",
              " 'ಝ': 54,\n",
              " 'ಞ': 13,\n",
              " 'ಟ': 37,\n",
              " 'ಠ': 59,\n",
              " 'ಡ': 29,\n",
              " 'ಢ': 86,\n",
              " 'ಣ': 48,\n",
              " 'ತ': 1,\n",
              " 'ಥ': 10,\n",
              " 'ದ': 51,\n",
              " 'ಧ': 55,\n",
              " 'ನ': 28,\n",
              " 'ಪ': 83,\n",
              " 'ಫ': 27,\n",
              " 'ಬ': 95,\n",
              " 'ಭ': 46,\n",
              " 'ಮ': 90,\n",
              " 'ಯ': 8,\n",
              " 'ರ': 52,\n",
              " 'ಲ': 57,\n",
              " 'ಳ': 104,\n",
              " 'ವ': 91,\n",
              " 'ಶ': 12,\n",
              " 'ಷ': 31,\n",
              " 'ಸ': 5,\n",
              " 'ಹ': 103,\n",
              " 'ಾ': 61,\n",
              " 'ಿ': 43,\n",
              " 'ೀ': 9,\n",
              " 'ು': 66,\n",
              " 'ೂ': 78,\n",
              " 'ೃ': 100,\n",
              " 'ೆ': 11,\n",
              " 'ೇ': 19,\n",
              " 'ೈ': 92,\n",
              " 'ೊ': 85,\n",
              " 'ೋ': 65,\n",
              " 'ೌ': 25,\n",
              " '್': 73,\n",
              " '೦': 3,\n",
              " '೧': 99,\n",
              " '೨': 84,\n",
              " '೩': 76,\n",
              " '೪': 0,\n",
              " '೫': 42,\n",
              " '೬': 62,\n",
              " '೭': 81,\n",
              " '೮': 32,\n",
              " '೯': 2,\n",
              " '\\u200c': 24,\n",
              " '\\u200d': 50,\n",
              " '‘': 74,\n",
              " '’': 64}"
            ]
          },
          "metadata": {
            "tags": []
          },
          "execution_count": 10
        }
      ]
    },
    {
      "cell_type": "markdown",
      "metadata": {
        "id": "JOSzbvs9SXT1"
      },
      "source": [
        "Cool, we see that all letters of the alphabet occur in the dataset (which is not really surprising) and we also extracted the special characters `\" \"` and `'`. Note that we did not exclude those special characters because: \n",
        "\n",
        "- The model has to learn to predict when a word is finished or else the model prediction would always be a sequence of chars which would make it impossible to separate words from each other.\n",
        "- From the transcriptions above it seems that words that include an apostrophe, such as `maktouf'un` do exist in Turkish, so I decided to keep the apostrophe in the dataset. This might be a wrong assumption though.\n",
        "\n",
        "One should always keep in mind that the data-preprocessing is a very important step before training your model. E.g., we don't want our model to differentiate between `a` and `A` just because we forgot to normalize the data. The difference between `a` and `A` does not depend on the \"sound\" of the letter at all, but more on grammatical rules - *e.g.* use a capitalized letter at the beginning of the sentence. So it is sensible to remove the difference between capitalized and non-capitalized letters so that the model has an easier time learning to transcribe speech. \n",
        "\n",
        "It is always advantageous to get help from a native speaker of the language you would like to transcribe to verify whether the assumptions you made are sensible, *e.g.* I should have made sure that keeping `'`, but removing other special characters is a sensible choice for Turkish. "
      ]
    },
    {
      "cell_type": "markdown",
      "metadata": {
        "id": "b1fBRCn-TRaO"
      },
      "source": [
        "To make it clearer that `\" \"` has its own token class, we give it a more visible character `|`. In addition, we also add an \"unknown\" token so that the model can later deal with characters not encountered in Common Voice's training set. \n",
        "\n",
        "Finally, we also add a padding token that corresponds to CTC's \"*blank token*\". The \"blank token\" is a core component of the CTC algorithm. For more information, please take a look at the \"Alignment\" section [here](https://distill.pub/2017/ctc/)."
      ]
    },
    {
      "cell_type": "code",
      "metadata": {
        "id": "npbIbBoLgaFX"
      },
      "source": [
        "vocab_dict[\"|\"] = vocab_dict[\" \"]\n",
        "\n",
        "del vocab_dict[\" \"]"
      ],
      "execution_count": 11,
      "outputs": []
    },
    {
      "cell_type": "code",
      "metadata": {
        "colab": {
          "base_uri": "https://localhost:8080/"
        },
        "id": "znF0bNunsjbl",
        "outputId": "887856f7-b791-4ea1-ce4f-33abf23fe537"
      },
      "source": [
        "vocab_dict[\"[UNK]\"] = len(vocab_dict)\n",
        "\n",
        "vocab_dict[\"[PAD]\"] = len(vocab_dict)\n",
        "\n",
        "len(vocab_dict)"
      ],
      "execution_count": 12,
      "outputs": [
        {
          "output_type": "execute_result",
          "data": {
            "text/plain": [
              "108"
            ]
          },
          "metadata": {
            "tags": []
          },
          "execution_count": 12
        }
      ]
    },
    {
      "cell_type": "markdown",
      "metadata": {
        "id": "SFPGfet8U5sL"
      },
      "source": [
        "Cool, now our vocabulary is complete and consists of 39 tokens, which means that the linear layer that we will add on top of the pretrained XLSR-Wav2Vec2 checkpoint will have an output dimension of 39."
      ]
    },
    {
      "cell_type": "markdown",
      "metadata": {
        "id": "1CujRgBNVRaD"
      },
      "source": [
        "Let's now save the vocabulary as a json file."
      ]
    },
    {
      "cell_type": "code",
      "metadata": {
        "colab": {
          "base_uri": "https://localhost:8080/"
        },
        "id": "ehyUoh9vk191",
        "outputId": "41c0f8c4-afdb-4bf4-fce6-856ea487ce26"
      },
      "source": [
        "import json\n",
        "print(\"Writing vocab to:\", vocab_fname)\n",
        "with open(vocab_fname, 'w') as vocab_file:\n",
        "    json.dump(vocab_dict, vocab_file)"
      ],
      "execution_count": 13,
      "outputs": [
        {
          "output_type": "stream",
          "text": [
            "Writing vocab to: /content/gdrive/MyDrive/Colab Notebooks/shabdavedi/data/model_inputs/vocab.json\n"
          ],
          "name": "stdout"
        }
      ]
    },
    {
      "cell_type": "markdown",
      "metadata": {
        "id": "SHJDaKlIVVim"
      },
      "source": [
        "In a final step, we use the json file to instantiate an object of the `Wav2Vec2CTCTokenizer` class."
      ]
    },
    {
      "cell_type": "markdown",
      "metadata": {
        "id": "xriFGEWQkO4M"
      },
      "source": [
        "from transformers import Wav2Vec2CTCTokenizer\n",
        "\n",
        "tokenizer = Wav2Vec2CTCTokenizer(vocab_fname, unk_token=\"[UNK]\", pad_token=\"[PAD]\", word_delimiter_token=\"|\")"
      ]
    },
    {
      "cell_type": "markdown",
      "metadata": {
        "id": "KvL12DrNV4cx"
      },
      "source": [
        "Next, we will create the feature extractor."
      ]
    },
    {
      "cell_type": "markdown",
      "metadata": {
        "id": "mYcIiR2FQ96i"
      },
      "source": [
        "### Create XLSR-Wav2Vec2 Feature Extractor"
      ]
    },
    {
      "cell_type": "markdown",
      "metadata": {
        "id": "Y6mDEyW719rx"
      },
      "source": [
        "Speech is a continuous signal and to be treated by computers, it first has to be discretized, which is usually called **sampling**. The sampling rate hereby plays an important role in that it defines how many data points of the speech signal are measured per second. Therefore, sampling with a higher sampling rate results in a better approximation of the *real* speech signal but also necessitates more values per second.\n",
        "\n",
        "A pretrained checkpoint expects its input data to have been sampled more or less from the same distribution as the data it was trained on. The same speech signals sampled at two different rates have a very different distribution, *e.g.*, doubling the sampling rate results in data points being twice as long. Thus, \n",
        "before fine-tuning a pretrained checkpoint of an ASR model, it is crucial to verify that the sampling rate of the data that was used to pretrain the model matches the sampling rate of the dataset used to fine-tune the model.\n",
        "\n",
        "XLSR-Wav2Vec2 was pretrained on the audio data of [Babel](https://huggingface.co/datasets/librispeech_asr), \n",
        "[Multilingual LibriSpeech (MLS)](https://ai.facebook.com/blog/a-new-open-data-set-for-multilingual-speech-research/), and [Common Voice](https://huggingface.co/datasets/common_voice). Most of those datasets were sampled at 16kHz, so that Common Voice, sampled at 48kHz, has to be downsampled to 16kHz for training. Therefore, we will have to downsample our fine-tuning data to 16kHz in the following.\n",
        "\n"
      ]
    },
    {
      "cell_type": "markdown",
      "metadata": {
        "id": "KuUbPW7oV-B5"
      },
      "source": [
        "A XLSR-Wav2Vec2 feature extractor object requires the following parameters to be instantiated:\n",
        "\n",
        "- `feature_size`: Speech models take a sequence of feature vectors as an input. While the length of this sequence obviously varies, the feature size should not. In the case of Wav2Vec2, the feature size is 1 because the model was trained on the raw speech signal ${}^2$.\n",
        "- `sampling_rate`: The sampling rate at which the model is trained on.\n",
        "- `padding_value`: For batched inference, shorter inputs need to be padded with a specific value\n",
        "- `do_normalize`: Whether the input should be *zero-mean-unit-variance* normalized or not. Usually, speech models perform better when normalizing the input\n",
        "- `return_attention_mask`: Whether the model should make use of an `attention_mask` for batched inference. In general, XLSR-Wav2Vec2 models should **always** make use of the `attention_mask`."
      ]
    },
    {
      "cell_type": "markdown",
      "metadata": {
        "id": "kAR0-2KLkopp"
      },
      "source": [
        "from transformers import Wav2Vec2FeatureExtractor\n",
        "\n",
        "feature_extractor = Wav2Vec2FeatureExtractor(feature_size=1, sampling_rate=16000, \n",
        "                                             padding_value=0.0, do_normalize=True, return_attention_mask=True)"
      ]
    },
    {
      "cell_type": "markdown",
      "metadata": {
        "id": "qUETetgqYC3W"
      },
      "source": [
        "Great, XLSR-Wav2Vec2's feature extraction pipeline is thereby fully defined!\n",
        "\n",
        "To make the usage of XLSR-Wav2Vec2 as user-friendly as possible, the feature extractor and tokenizer are *wrapped* into a single `Wav2Vec2Processor` class so that one only needs a `model` and `processor` object."
      ]
    },
    {
      "cell_type": "markdown",
      "metadata": {
        "id": "KYZtoW-tlZgl"
      },
      "source": [
        "from transformers import Wav2Vec2Processor\n",
        "\n",
        "processor = Wav2Vec2Processor(feature_extractor=feature_extractor, tokenizer=tokenizer)"
      ]
    },
    {
      "cell_type": "markdown",
      "metadata": {
        "id": "fTfFDSS0YfMN"
      },
      "source": [
        "If one wants to re-use the just created processor and the fine-tuned model of this notebook, one can mount his/her google drive to the notebook and save all relevant files there. To do so, please uncomment the following lines. \n",
        "\n",
        "We will give the fine-tuned model the name `\"wav2vec2-large-xlsr-turkish-demo\"`."
      ]
    },
    {
      "cell_type": "code",
      "metadata": {
        "id": "yq7Bzuzz4zjQ"
      },
      "source": [
        "# from google.colab import drive\n",
        "# drive.mount('/content/gdrive/')"
      ],
      "execution_count": 14,
      "outputs": []
    },
    {
      "cell_type": "code",
      "metadata": {
        "id": "Par9rpypPsml"
      },
      "source": [
        "# processor.save_pretrained(\"/content/gdrive/MyDrive/wav2vec2-large-xlsr-turkish-demo\")"
      ],
      "execution_count": 15,
      "outputs": []
    },
    {
      "cell_type": "markdown",
      "metadata": {
        "id": "DrKnYuvDIoOO"
      },
      "source": [
        "Next, we can prepare the dataset."
      ]
    },
    {
      "cell_type": "markdown",
      "metadata": {
        "id": "YFmShnl7RE35"
      },
      "source": [
        "### Preprocess Data\n",
        "\n",
        "So far, we have not looked at the actual values of the speech signal but just kept the path to its file in the dataset. `XLSR-Wav2Vec2` expects the audio file in the format of a 1-dimensional array, so in the first step, let's load all audio files into the dataset object.\n",
        "\n",
        "Let's first check the serialization format of the downloaded audio files by looking at the first training sample."
      ]
    },
    {
      "cell_type": "markdown",
      "metadata": {
        "id": "wSBIGEiaKHMn"
      },
      "source": [
        "Alright, the audio file is saved in the `.mp3` format. The `.mp3` format is usually not the easiest format to deal with. We found that the [`torchaudio`](https://pytorch.org/audio/stable/index.html) library works best for reading in `.mp3` data. \n",
        "\n",
        "An audio file usually stores both its values and the sampling rate with which the speech signal was digitalized. We want to store both in the dataset and write a `map(...)` function accordingly."
      ]
    },
    {
      "cell_type": "markdown",
      "metadata": {
        "id": "8NmXU7kxq8Hk",
        "outputId": "30f8141f-2c65-47c2-9637-f96fd59ccf63"
      },
      "source": [
        "train_dataset = Dataset.from_pandas(train_df)\n",
        "\n",
        "test_dataset = Dataset.from_pandas(test_df)\n",
        "\n",
        "train_dataset"
      ]
    },
    {
      "cell_type": "code",
      "metadata": {
        "id": "SZgYC7LKMz1m"
      },
      "source": [
        ""
      ],
      "execution_count": 15,
      "outputs": []
    },
    {
      "cell_type": "markdown",
      "metadata": {
        "id": "hcT7RPgAq8Hl"
      },
      "source": [
        "import numpy as np\n",
        "\n",
        "def speech_file_to_array_fn(batch):\n",
        "    try:\n",
        "            \n",
        "        speech_array, sampling_rate = torchaudio.load(batch[\"path\"])\n",
        "        \n",
        "        batch[\"speech\"] = speech_array[0].numpy()\n",
        "        \n",
        "        batch[\"sampling_rate\"] = sampling_rate\n",
        "        \n",
        "        return batch\n",
        "    \n",
        "    except Exception as exc:\n",
        "        \n",
        "        print(exc, batch[\"path\"])\n",
        "        \n",
        "        batch[\"speech\"] = np.array([])\n",
        "        \n",
        "        batch[\"sampling_rate\"] = sampling_rate\n",
        "        return batch"
      ]
    },
    {
      "cell_type": "markdown",
      "metadata": {
        "id": "al9Luo4LPpwJ"
      },
      "source": [
        "def speech_file_to_array_fn(batch):\n",
        "    speech_array, sampling_rate = torchaudio.load(batch[\"path\"])\n",
        "    batch[\"speech\"] = speech_array[0].numpy()\n",
        "    batch[\"sampling_rate\"] = sampling_rate\n",
        "    batch[\"target_text\"] = batch[\"sentence\"]\n",
        "    return batch"
      ]
    },
    {
      "cell_type": "markdown",
      "metadata": {
        "id": "afeicUeWlrRL",
        "outputId": "600f1477-8e9e-4d90-aff7-ab85c273d8ff",
        "scrolled": false
      },
      "source": [
        "train_dataset = train_dataset.map(speech_file_to_array_fn)\n",
        "\n",
        "train_dataset"
      ]
    },
    {
      "cell_type": "markdown",
      "metadata": {
        "id": "YTGuD4uA3Jc2",
        "outputId": "a2fb4508-430b-4aba-86e1-370e3a9f9425"
      },
      "source": [
        "test_dataset = test_dataset.map(speech_file_to_array_fn)\n",
        "\n",
        "test_dataset"
      ]
    },
    {
      "cell_type": "markdown",
      "metadata": {
        "id": "ki5sXmzucc9Q"
      },
      "source": [
        "Great, now we've successfully read in all the audio files, but since we know that Common Voice is sampled at 48kHz, we need to resample the audio files to 16kHz. \n",
        "\n",
        "Let's make use of the [`librosa`](https://github.com/librosa/librosa) library to downsample the data."
      ]
    },
    {
      "cell_type": "markdown",
      "metadata": {
        "id": "6Y6AK3Z-kHwP"
      },
      "source": [
        "import librosa\n",
        "\n",
        "import numpy as np\n",
        "\n",
        "def resample(batch):\n",
        "    \n",
        "    batch[\"speech\"] = librosa.resample(np.asarray(batch[\"speech\"]), batch[\"sampling_rate\"], 16_000)\n",
        "    \n",
        "    batch[\"sampling_rate\"] = 16_000\n",
        "    \n",
        "    return batch"
      ]
    },
    {
      "cell_type": "markdown",
      "metadata": {
        "id": "wSC6a4Mf3Piw",
        "outputId": "2e82c42a-7bfc-4726-e6aa-45ea3e238c51"
      },
      "source": [
        "train_dataset = train_dataset.map(resample)"
      ]
    },
    {
      "cell_type": "markdown",
      "metadata": {
        "id": "Ws8DyIL_kjwT",
        "scrolled": true
      },
      "source": [
        "\n",
        "\n",
        "test_dataset = test_dataset.map(resample)"
      ]
    },
    {
      "cell_type": "markdown",
      "metadata": {
        "id": "SOckzFd4Mbzq"
      },
      "source": [
        "This seemed to have worked! Let's listen to a couple of audio files to better understand the dataset and verify that the audio was correctly loaded. \n",
        "\n",
        "**Note**: *You can click the following cell a couple of times to listen to different speech samples.*"
      ]
    },
    {
      "cell_type": "markdown",
      "metadata": {
        "id": "dueM6U7Ev0OA"
      },
      "source": [
        "import IPython.display as ipd\n",
        "import numpy as np\n",
        "import random\n",
        "\n",
        "rand_int = random.randint(0, len(train_dataset)-1)\n",
        "\n",
        "print(train_dataset[rand_int][\"sentence\"])\n",
        "ipd.Audio(data=np.asarray(train_dataset[rand_int][\"speech\"]), autoplay=True, rate=16000)"
      ]
    },
    {
      "cell_type": "markdown",
      "metadata": {
        "id": "1MaL9J2dNVtG"
      },
      "source": [
        "It can be heard, that the speakers change along with their speaking rate, accent, and background environment, etc. Overall, the recordings sound acceptably clear though, which is to be expected from a crowd-sourced read speech corpus.\n",
        "\n",
        "Let's do a final check that the data is correctly prepared, by printing the shape of the speech input, its transcription, and the corresponding sampling rate.\n",
        "\n",
        "**Note**: *You can click the following cell a couple of times to verify multiple samples.*"
      ]
    },
    {
      "cell_type": "markdown",
      "metadata": {
        "id": "1Po2g7YPuRTx"
      },
      "source": [
        "rand_int = random.randint(0, len(train_dataset)-1)\n",
        "\n",
        "print(\"Target text:\", train_dataset[rand_int][\"sentence\"])\n",
        "print(\"Input array shape:\", np.asarray(train_dataset[rand_int][\"speech\"]).shape)\n",
        "print(\"Sampling rate:\", train_dataset[rand_int][\"sampling_rate\"])"
      ]
    },
    {
      "cell_type": "markdown",
      "metadata": {
        "id": "M9teZcSwOBJ4"
      },
      "source": [
        "Good! Everything looks fine - the data is a 1-dimensional array, the sampling rate always corresponds to 16kHz, and the target text is normalized."
      ]
    },
    {
      "cell_type": "markdown",
      "metadata": {
        "id": "k3Pbn5WvOYZF"
      },
      "source": [
        "Finally, we can process the dataset to the format expected by the model for training. We will again make use of the `map(...)` function.\n",
        "\n",
        "First, we check that the data samples have the same sampling rate of 16kHz.\n",
        "Second, we extract the `input_values` from the loaded audio file. In our case, this includes only normalization, but for other speech models, this step could correspond to extracting, *e.g.* [Log-Mel features](https://en.wikipedia.org/wiki/Mel-frequency_cepstrum). \n",
        "Third, we encode the transcriptions to label ids.\n",
        "\n",
        "**Note**: This mapping function is a good example of how the `Wav2Vec2Processor` class should be used. In \"normal\" context, calling `processor(...)` is redirected to `Wav2Vec2FeatureExtractor`'s call method. When wrapping the processor into the `as_target_processor` context, however, the same method is redirected to `Wav2Vec2CTCTokenizer`'s call method.\n",
        "For more information please check the [docs](https://huggingface.co/transformers/master/model_doc/wav2vec2.html#transformers.Wav2Vec2Processor.__call__)."
      ]
    },
    {
      "cell_type": "markdown",
      "metadata": {
        "id": "eJY7I0XAwe9p"
      },
      "source": [
        "def prepare_dataset(batch):\n",
        "    # check that all files have the correct sampling rate\n",
        "    assert (\n",
        "        len(set(batch[\"sampling_rate\"])) == 1\n",
        "    ), f\"Make sure all inputs have the same sampling rate of {processor.feature_extractor.sampling_rate}.\"\n",
        "\n",
        "    batch[\"input_values\"] = processor(batch[\"speech\"], sampling_rate=batch[\"sampling_rate\"][0]).input_values\n",
        "    \n",
        "    with processor.as_target_processor():\n",
        "        \n",
        "        batch[\"labels\"] = processor(batch[\"sentence\"]).input_ids\n",
        "        \n",
        "    return batch"
      ]
    },
    {
      "cell_type": "markdown",
      "metadata": {
        "id": "c49flfAZ3UEg"
      },
      "source": [
        "train_dataset = train_dataset.map(prepare_dataset, remove_columns=train_dataset.column_names, batch_size=8, batched=True, num_proc=4)"
      ]
    },
    {
      "cell_type": "markdown",
      "metadata": {
        "id": "-np9xYK-wl8q"
      },
      "source": [
        "\n",
        "\n",
        "test_dataset = test_dataset.map(prepare_dataset, remove_columns=test_dataset.column_names, batch_size=8, batched=True, num_proc=4)"
      ]
    },
    {
      "cell_type": "markdown",
      "metadata": {
        "id": "6M20NHTG3XNC"
      },
      "source": [
        "train_dataset_df = pd.DataFrame(train_dataset)\n",
        "\n",
        "print(\"Writing to:\", processed_train)\n",
        "train_dataset_df.to_pickle(processed_train)"
      ]
    },
    {
      "cell_type": "markdown",
      "metadata": {
        "id": "lyhaKdKtuJ7b"
      },
      "source": [
        "test_dataset_df = pd.DataFrame(test_dataset)\n",
        "print(\"Writing to:\", processed_test)\n",
        "test_dataset_df.to_pickle(processed_test)"
      ]
    },
    {
      "cell_type": "code",
      "metadata": {
        "id": "NjBx20kfwD20"
      },
      "source": [
        ""
      ],
      "execution_count": 15,
      "outputs": []
    },
    {
      "cell_type": "markdown",
      "metadata": {
        "id": "RPCpx_MfvsJV"
      },
      "source": [
        "test_dataset_df = pd.read_pickle(processed_test)\n",
        "\n",
        "train_dataset_df = pd.read_pickle(processed_train)\n",
        "\n",
        "test_dataset = Dataset.from_pandas(test_dataset_df)\n",
        "\n",
        "train_dataset = Dataset.from_pandas(train_dataset_df)\n",
        "\n",
        "train_dataset"
      ]
    },
    {
      "cell_type": "markdown",
      "metadata": {
        "id": "gYlQkKVoRUos"
      },
      "source": [
        "## Training\n",
        "\n",
        "The data is processed so that we are ready to start setting up the training pipeline. We will make use of 🤗's [Trainer](https://huggingface.co/transformers/master/main_classes/trainer.html?highlight=trainer) for which we essentially need to do the following:\n",
        "\n",
        "- Define a data collator. In contrast to most NLP models, XLSR-Wav2Vec2 has a much larger input length than output length. *E.g.*, a sample of input length 50000 has an output length of no more than 100. Given the large input sizes, it is much more efficient to pad the training batches dynamically meaning that all training samples should only be padded to the longest sample in their batch and not the overall longest sample. Therefore, fine-tuning XLSR-Wav2Vec2 requires a special padding data collator, which we will define below\n",
        "\n",
        "- Evaluation metric. During training, the model should be evaluated on the word error rate. We should define a `compute_metrics` function accordingly\n",
        "\n",
        "- Load a pretrained checkpoint. We need to load a pretrained checkpoint and configure it correctly for training.\n",
        "\n",
        "- Define the training configuration.\n",
        "\n",
        "After having fine-tuned the model, we will correctly evaluate it on the test data and verify that it has indeed learned to correctly transcribe speech."
      ]
    },
    {
      "cell_type": "markdown",
      "metadata": {
        "id": "Slk403unUS91"
      },
      "source": [
        "### Set-up Trainer\n",
        "\n",
        "Let's start by defining the data collator. The code for the data collator was copied from [this example](https://github.com/huggingface/transformers/blob/9a06b6b11bdfc42eea08fa91d0c737d1863c99e3/examples/research_projects/wav2vec2/run_asr.py#L81).\n",
        "\n",
        "Without going into too many details, in contrast to the common data collators, this data collator treats the `input_values` and `labels` differently and thus applies to separate padding functions on them (again making use of XLSR-Wav2Vec2's context manager). This is necessary because in speech input and output are of different modalities meaning that they should not be treated by the same padding function.\n",
        "Analogous to the common data collators, the padding tokens in the labels with `-100` so that those tokens are **not** taken into account when computing the loss."
      ]
    },
    {
      "cell_type": "code",
      "metadata": {
        "id": "tborvC9hx88e"
      },
      "source": [
        "import torch\n",
        "\n",
        "from dataclasses import dataclass, field\n",
        "from typing import Any, Dict, List, Optional, Union\n",
        "\n",
        "@dataclass\n",
        "class DataCollatorCTCWithPadding:\n",
        "    \"\"\"\n",
        "    Data collator that will dynamically pad the inputs received.\n",
        "    Args:\n",
        "        processor (:class:`~transformers.Wav2Vec2Processor`)\n",
        "            The processor used for proccessing the data.\n",
        "        padding (:obj:`bool`, :obj:`str` or :class:`~transformers.tokenization_utils_base.PaddingStrategy`, `optional`, defaults to :obj:`True`):\n",
        "            Select a strategy to pad the returned sequences (according to the model's padding side and padding index)\n",
        "            among:\n",
        "            * :obj:`True` or :obj:`'longest'`: Pad to the longest sequence in the batch (or no padding if only a single\n",
        "              sequence if provided).\n",
        "            * :obj:`'max_length'`: Pad to a maximum length specified with the argument :obj:`max_length` or to the\n",
        "              maximum acceptable input length for the model if that argument is not provided.\n",
        "            * :obj:`False` or :obj:`'do_not_pad'` (default): No padding (i.e., can output a batch with sequences of\n",
        "              different lengths).\n",
        "        max_length (:obj:`int`, `optional`):\n",
        "            Maximum length of the ``input_values`` of the returned list and optionally padding length (see above).\n",
        "        max_length_labels (:obj:`int`, `optional`):\n",
        "            Maximum length of the ``labels`` returned list and optionally padding length (see above).\n",
        "        pad_to_multiple_of (:obj:`int`, `optional`):\n",
        "            If set will pad the sequence to a multiple of the provided value.\n",
        "            This is especially useful to enable the use of Tensor Cores on NVIDIA hardware with compute capability >=\n",
        "            7.5 (Volta).\n",
        "    \"\"\"\n",
        "\n",
        "    processor: Wav2Vec2Processor\n",
        "    padding: Union[bool, str] = True\n",
        "    max_length: Optional[int] = None\n",
        "    max_length_labels: Optional[int] = None\n",
        "    pad_to_multiple_of: Optional[int] = None\n",
        "    pad_to_multiple_of_labels: Optional[int] = None\n",
        "\n",
        "    def __call__(self, features: List[Dict[str, Union[List[int], torch.Tensor]]]) -> Dict[str, torch.Tensor]:\n",
        "        # split inputs and labels since they have to be of different lenghts and need\n",
        "        # different padding methods\n",
        "        #print(\"sfsdfsdf\")\n",
        "        input_features = [{\"input_values\": feature[\"input_values\"]} for feature in features]\n",
        "        label_features = [{\"input_ids\": feature[\"labels\"]} for feature in features]\n",
        "\n",
        "        batch = self.processor.pad(\n",
        "            input_features,\n",
        "            padding=self.padding,\n",
        "            max_length=self.max_length,\n",
        "            pad_to_multiple_of=self.pad_to_multiple_of,\n",
        "            return_tensors=\"pt\",\n",
        "        )\n",
        "        with self.processor.as_target_processor():\n",
        "            labels_batch = self.processor.pad(\n",
        "                label_features,\n",
        "                padding=self.padding,\n",
        "                max_length=self.max_length_labels,\n",
        "                pad_to_multiple_of=self.pad_to_multiple_of_labels,\n",
        "                return_tensors=\"pt\",\n",
        "            )\n",
        "\n",
        "        # replace padding with -100 to ignore loss correctly\n",
        "        labels = labels_batch[\"input_ids\"].masked_fill(labels_batch.attention_mask.ne(1), -100)\n",
        "\n",
        "        batch[\"labels\"] = labels\n",
        "\n",
        "        return batch"
      ],
      "execution_count": 16,
      "outputs": []
    },
    {
      "cell_type": "markdown",
      "metadata": {
        "id": "lbQf5GuZyQ4_"
      },
      "source": [
        "data_collator = DataCollatorCTCWithPadding(processor=processor, padding=True)"
      ]
    },
    {
      "cell_type": "markdown",
      "metadata": {
        "id": "xO-Zdj-5cxXp"
      },
      "source": [
        "Next, the evaluation metric is defined. As mentioned earlier, the \n",
        "predominant metric in ASR is the word error rate (WER), hence we will use it in this notebook as well."
      ]
    },
    {
      "cell_type": "code",
      "metadata": {
        "id": "9Xsux2gmyXso"
      },
      "source": [
        "wer_metric = load_metric(\"wer\")"
      ],
      "execution_count": 17,
      "outputs": []
    },
    {
      "cell_type": "markdown",
      "metadata": {
        "id": "E1qZU5p-deqB"
      },
      "source": [
        "The model will return a sequence of logit vectors:\n",
        "$\\mathbf{y}_1, \\ldots, \\mathbf{y}_m$ with $\\mathbf{y}_1 = f_{\\theta}(x_1, \\ldots, x_n)[0]$ and $n >> m$.\n",
        "\n",
        "A logit vector $\\mathbf{y}_1$ contains the log-odds for each word in the vocabulary we defined earlier, thus $\\text{len}(\\mathbf{y}_i) =$ `config.vocab_size`. We are interested in the most likely prediction of the model and thus take the `argmax(...)` of the logits. Also, we transform the encoded labels back to the original string by replacing `-100` with the `pad_token_id` and decoding the ids while making sure that consecutive tokens are **not** grouped to the same token in CTC style ${}^1$."
      ]
    },
    {
      "cell_type": "code",
      "metadata": {
        "id": "1XZ-kjweyTy_"
      },
      "source": [
        "def compute_metrics(pred):\n",
        "    pred_logits = pred.predictions\n",
        "    pred_ids = np.argmax(pred_logits, axis=-1)\n",
        "\n",
        "    pred.label_ids[pred.label_ids == -100] = processor.tokenizer.pad_token_id\n",
        "\n",
        "    pred_str = processor.batch_decode(pred_ids)\n",
        "    # we do not want to group tokens when computing the metrics\n",
        "    label_str = processor.batch_decode(pred.label_ids, group_tokens=False)\n",
        "\n",
        "    wer = wer_metric.compute(predictions=pred_str, references=label_str)\n",
        "\n",
        "    return {\"wer\": wer}"
      ],
      "execution_count": 18,
      "outputs": []
    },
    {
      "cell_type": "markdown",
      "metadata": {
        "id": "Xmgrx4bRwLIH"
      },
      "source": [
        "Now, we can load the pretrained `XLSR-Wav2Vec2` checkpoint. The tokenizer's `pad_token_id` must be to define the model's `pad_token_id` or in the case of `Wav2Vec2ForCTC` also CTC's *blank token* ${}^2$. To save GPU memory, we enable PyTorch's [gradient checkpointing](https://pytorch.org/docs/stable/checkpoint.html) and also set the loss reduction to \"*mean*\".\n",
        "\n",
        "Because the dataset is quite small (~6h of training data) and because Common Voice is quite noisy, fine-tuning Facebook's [wav2vec2-large-xlsr-53 checkpoint](https://huggingface.co/facebook/wav2vec2-large-xlsr-53) seems to require some hyper-parameter tuning. Therefore, I had to play around a bit with different values for dropout, [SpecAugment](https://arxiv.org/abs/1904.08779)'s masking dropout rate, layer dropout, and the learning rate until training seemed to be stable enough. \n",
        "\n",
        "**Note**: When using this notebook to train XLSR-Wav2Vec2 on another language of Common Voice those hyper-parameter settings might not work very well. Feel free to adapt those depending on your use case. "
      ]
    },
    {
      "cell_type": "markdown",
      "metadata": {
        "id": "e7cqAWIayn6w",
        "outputId": "1ce373fd-5c22-465d-880c-e21342c98819"
      },
      "source": [
        "from transformers import Wav2Vec2ForCTC\n",
        "\n",
        "model = Wav2Vec2ForCTC.from_pretrained(\n",
        "    \"facebook/wav2vec2-large-xlsr-53\", \n",
        "    attention_dropout=0.1,\n",
        "    hidden_dropout=0.1,\n",
        "    feat_proj_dropout=0.0,\n",
        "    mask_time_prob=0.05,\n",
        "    layerdrop=0.1,\n",
        "    gradient_checkpointing=True, \n",
        "    ctc_loss_reduction=\"mean\", \n",
        "    pad_token_id=processor.tokenizer.pad_token_id,\n",
        "    vocab_size=len(processor.tokenizer)\n",
        ")\n",
        "\n",
        "model.freeze_feature_extractor()"
      ]
    },
    {
      "cell_type": "markdown",
      "metadata": {
        "id": "1DwR3XLSzGDD"
      },
      "source": [
        "The first component of XLSR-Wav2Vec2 consists of a stack of CNN layers that are used to extract acoustically meaningful - but contextually independent - features from the raw speech signal. This part of the model has already been sufficiently trained during pretraining and as stated in the [paper](https://arxiv.org/pdf/2006.13979.pdf) does not need to be fine-tuned anymore. \n",
        "Thus, we can set the `requires_grad` to `False` for all parameters of the *feature extraction* part."
      ]
    },
    {
      "cell_type": "markdown",
      "metadata": {
        "id": "oGI8zObtZ3V0"
      },
      "source": [
        "model.freeze_feature_extractor()"
      ]
    },
    {
      "cell_type": "markdown",
      "metadata": {
        "id": "lD4aGhQM0K-D"
      },
      "source": [
        "In a final step, we define all parameters related to training. \n",
        "To give more explanation on some of the parameters:\n",
        "- `group_by_length` makes training more efficient by grouping training samples of similar input length into one batch. This can significantly speed up training time by heavily reducing the overall number of useless padding tokens that are passed through the model\n",
        "- `learning_rate` and `weight_decay` were heuristically tuned until fine-tuning has become stable. Note that those parameters strongly depend on the Common Voice dataset and might be suboptimal for other speech datasets.\n",
        "\n",
        "For more explanations on other parameters, one can take a look at the [docs](https://huggingface.co/transformers/master/main_classes/trainer.html?highlight=trainer#trainingarguments).\n",
        "\n",
        "**Note**: If one wants to save the trained models in his/her google drive the commented-out `output_dir` can be used instead."
      ]
    },
    {
      "cell_type": "markdown",
      "metadata": {
        "id": "OsW-WZcL1ZtN"
      },
      "source": [
        "Now, all instances can be passed to Trainer and we are ready to start training!"
      ]
    },
    {
      "cell_type": "code",
      "metadata": {
        "id": "WqZUkAHgDvF6"
      },
      "source": [
        "def load_resample(fpath):\n",
        "    "
      ],
      "execution_count": null,
      "outputs": []
    },
    {
      "cell_type": "code",
      "metadata": {
        "id": "CZHOtkqGMz1u"
      },
      "source": [
        "class AudioDataset(torch.utils.data.dataset.Dataset):\n",
        "    \"\"\"ASR dataset.\"\"\"\n",
        "\n",
        "    def __init__(self, tsv_file, processor, target_sampling_rate=16000, sample_size=None):\n",
        "        \"\"\"\n",
        "        Args:\n",
        "            tsv_file (string): Path to the tsv file with transcribed sentences and paths to audio files.\n",
        "            target_sampling_rate(int): sampling rate to be resampled to\n",
        "        \"\"\"\n",
        "        \n",
        "        if sample_size==None:\n",
        "            self.path_df = pd.read_csv(tsv_file, sep=\"\\t\", encoding=\"utf-8\")\n",
        "        else:\n",
        "            self.path_df = pd.read_csv(tsv_file, sep=\"\\t\", encoding=\"utf-8\").sample(sample_size).reset_index(drop=True)\n",
        "        \n",
        "        self.target_sampling_rate = target_sampling_rate\n",
        "        \n",
        "        self.processor = processor\n",
        "        \n",
        "    def __len__(self):\n",
        "        return self.path_df.shape[0]\n",
        "    \n",
        "\n",
        "    def __getitem__(self, idx):\n",
        "        \n",
        "        #print(idx)\n",
        "        batch = {}\n",
        "        \n",
        "        if torch.is_tensor(idx):\n",
        "            \n",
        "            idx = idx.tolist()\n",
        "            \n",
        "        if not(type(idx) is list):\n",
        "            \n",
        "            idx = [idx]\n",
        "            \n",
        "        speech_arrays = []\n",
        "        \n",
        "        sentences_list = []\n",
        "        \n",
        "        \n",
        "        \n",
        "        single_idx = idx[0]\n",
        "\n",
        "        if single_idx % 500 == 0:\n",
        "            print(single_idx)\n",
        "\n",
        "\n",
        "        \n",
        "        if single_idx >= self.__len__():\n",
        "\n",
        "            raise StopIteration\n",
        "\n",
        "            ##print(single_idx)\n",
        "\n",
        "        try:\n",
        "\n",
        "            speech_array, sampling_rate = torchaudio.load(self.path_df.loc[single_idx, \"path\"])\n",
        "\n",
        "            resampled_array = librosa.resample(np.asarray(speech_array[0].numpy()), sampling_rate, self.target_sampling_rate)\n",
        "\n",
        "            #speech_arrays.append(resampled_array)\n",
        "\n",
        "            #sentences_list.append(self.path_df.loc[single_idx, \"sentence\"])\n",
        "            \n",
        "            ##print(len(speech_arrays))\n",
        "            batch[\"input_values\"] = self.processor(resampled_array, \n",
        "                                                   sampling_rate=self.target_sampling_rate).input_values[0]\n",
        "            \n",
        "            ##print(len(batch[\"input_values\"]), batch[\"input_values\"][0].shape)\n",
        "\n",
        "            with self.processor.as_target_processor():\n",
        "\n",
        "                batch[\"labels\"] = self.processor(self.path_df.loc[single_idx, \"sentence\"]).input_ids\n",
        "                \n",
        "                #print(len(batch[\"labels\"]), batch[\"labels\"])\n",
        "\n",
        "            return batch\n",
        "\n",
        "        except Exception as exc:            \n",
        "\n",
        "            print(\"Error:\",exc, self.path_df.loc[single_idx, \"path\"], \"\\n\", \"Hence using first row\")\n",
        "            \n",
        "            batch = self.__getitem__(0)\n",
        "            \n",
        "            return batch\n",
        "                \n",
        "        \n",
        "\n",
        "#train_dataset = AudioDataset(train_fname, processor=processor, target_sampling_rate=16000, sample_size=10)\n",
        "\n",
        "#train_dataset.__getitem__(10)[\"input_values\"].shape"
      ],
      "execution_count": 19,
      "outputs": []
    },
    {
      "cell_type": "code",
      "metadata": {
        "id": "E3lX9DJvMz1u"
      },
      "source": [
        "def get_train_test_datasets(vocab_fname, train_fname, test_fname, sample_size=None):\n",
        "    \n",
        "    tokenizer = Wav2Vec2CTCTokenizer(vocab_fname, unk_token=\"[UNK]\", pad_token=\"[PAD]\", word_delimiter_token=\"|\")\n",
        "\n",
        "    feature_extractor = Wav2Vec2FeatureExtractor(feature_size=1, sampling_rate=16000, \n",
        "                                                 padding_value=0.0, do_normalize=True, return_attention_mask=True)\n",
        "    \n",
        "    processor = Wav2Vec2Processor(feature_extractor=feature_extractor, tokenizer=tokenizer)\n",
        "\n",
        "    data_collator = DataCollatorCTCWithPadding(processor=processor, padding=True)\n",
        "\n",
        "    train_dataset = AudioDataset(train_fname, processor=processor, target_sampling_rate=16000, sample_size=sample_size)\n",
        "\n",
        "    test_dataset = AudioDataset(test_fname, processor=processor, target_sampling_rate=16000, sample_size=sample_size)\n",
        "    \n",
        "    return train_dataset, test_dataset, data_collator, processor\n",
        "\n",
        "train_dataset, test_dataset, data_collator, processor = get_train_test_datasets(vocab_fname, train_fname, test_fname, sample_size=None)\n",
        "\n",
        "    #train_dataset.__getitem__(0)"
      ],
      "execution_count": 20,
      "outputs": []
    },
    {
      "cell_type": "code",
      "metadata": {
        "colab": {
          "base_uri": "https://localhost:8080/"
        },
        "id": "PSG2qqvTMz1u",
        "outputId": "d90c9158-b11a-42dc-ace4-dfbb48ed0fbc"
      },
      "source": [
        "test_dataset.__len__()"
      ],
      "execution_count": 21,
      "outputs": [
        {
          "output_type": "execute_result",
          "data": {
            "text/plain": [
              "880"
            ]
          },
          "metadata": {
            "tags": []
          },
          "execution_count": 21
        }
      ]
    },
    {
      "cell_type": "code",
      "metadata": {
        "colab": {
          "base_uri": "https://localhost:8080/"
        },
        "id": "eR2Xm-HmTkvi",
        "outputId": "edb6d338-e08e-4886-f94a-fa7d3713cbdf"
      },
      "source": [
        "train_dataset.__len__()"
      ],
      "execution_count": 22,
      "outputs": [
        {
          "output_type": "execute_result",
          "data": {
            "text/plain": [
              "3520"
            ]
          },
          "metadata": {
            "tags": []
          },
          "execution_count": 22
        }
      ]
    },
    {
      "cell_type": "code",
      "metadata": {
        "id": "oIrXJo0ev87c"
      },
      "source": [
        "from transformers import Wav2Vec2ForCTC\n",
        "\n",
        "from transformers import TrainingArguments\n",
        "\n",
        "from transformers import Trainer"
      ],
      "execution_count": 23,
      "outputs": []
    },
    {
      "cell_type": "code",
      "metadata": {
        "colab": {
          "base_uri": "https://localhost:8080/"
        },
        "id": "lB3SzeIoMz1v",
        "outputId": "4295bb94-dd7f-4f84-b88d-395f95a647a5"
      },
      "source": [
        "\n",
        "\n",
        "model = Wav2Vec2ForCTC.from_pretrained(\n",
        "    \"facebook/wav2vec2-large-xlsr-53\", \n",
        "    attention_dropout=0.1,\n",
        "    hidden_dropout=0.1,\n",
        "    feat_proj_dropout=0.0,\n",
        "    mask_time_prob=0.05,\n",
        "    layerdrop=0.1,\n",
        "    gradient_checkpointing=True, \n",
        "    ctc_loss_reduction=\"mean\", \n",
        "    pad_token_id=processor.tokenizer.pad_token_id,\n",
        "    vocab_size=len(processor.tokenizer)\n",
        ")\n",
        "\n",
        "model.freeze_feature_extractor()"
      ],
      "execution_count": 24,
      "outputs": [
        {
          "output_type": "stream",
          "text": [
            "Some weights of Wav2Vec2ForCTC were not initialized from the model checkpoint at facebook/wav2vec2-large-xlsr-53 and are newly initialized: ['lm_head.bias', 'lm_head.weight']\n",
            "You should probably TRAIN this model on a down-stream task to be able to use it for predictions and inference.\n"
          ],
          "name": "stderr"
        }
      ]
    },
    {
      "cell_type": "code",
      "metadata": {
        "id": "-b4KqtEaMz1v"
      },
      "source": [
        "\n",
        "\n",
        "training_args = TrainingArguments(\n",
        "  output_dir=model_output_dir,\n",
        "  # output_dir=\"./wav2vec2-large-xlsr-turkish-demo\",\n",
        "  group_by_length=True,\n",
        "  per_device_train_batch_size=8,\n",
        "  gradient_accumulation_steps=2,\n",
        "  evaluation_strategy=\"steps\",\n",
        "  num_train_epochs=30,\n",
        "  fp16=True,\n",
        "  save_steps=200,\n",
        "  eval_steps=200,\n",
        "  logging_steps=200,\n",
        "  learning_rate=3e-4,\n",
        "  warmup_steps=1000,\n",
        "  save_total_limit=5,\n",
        ")"
      ],
      "execution_count": 25,
      "outputs": []
    },
    {
      "cell_type": "code",
      "metadata": {
        "id": "rY7vBmFCPFgC"
      },
      "source": [
        "\n",
        "\n",
        "trainer = Trainer(\n",
        "    model=model,\n",
        "    data_collator=data_collator,\n",
        "    args=training_args,\n",
        "    compute_metrics=compute_metrics,\n",
        "    train_dataset=train_dataset,\n",
        "    eval_dataset=test_dataset,\n",
        "    tokenizer=processor.feature_extractor,\n",
        ")"
      ],
      "execution_count": 26,
      "outputs": []
    },
    {
      "cell_type": "markdown",
      "metadata": {
        "id": "UoXBx1JAA0DX"
      },
      "source": [
        "\n",
        "\n",
        "\n",
        "---\n",
        "\n",
        "${}^1$ To allow models to become independent of the speaker rate, in CTC, consecutive tokens that are identical are simply grouped as a single token. However, the encoded labels should not be grouped when decoding since they don't correspond to the predicted tokens of the model, which is why the `group_tokens=False` parameter has to be passed. If we wouldn't pass this parameter a word like `\"hello\"` would incorrectly be encoded, and decoded as `\"helo\"`.\n",
        "\n",
        "${}^2$ The blank token allows the model to predict a word, such as `\"hello\"` by forcing it to insert the blank token between the two l's. A CTC-conform prediction of `\"hello\"` of our model would be `[PAD] [PAD] \"h\" \"e\" \"e\" \"l\" \"l\" [PAD] \"l\" \"o\" \"o\" [PAD]`."
      ]
    },
    {
      "cell_type": "markdown",
      "metadata": {
        "id": "rpvZHM1xReIW"
      },
      "source": [
        "### Training"
      ]
    },
    {
      "cell_type": "markdown",
      "metadata": {
        "id": "j-3oKSzZ1hGq"
      },
      "source": [
        "Training will take between 180 and 240 minutes depending on the GPU allocated to this notebook. While the trained model yields somewhat satisfying results on *Common Voice*'s test data of Turkish, it is by no means an optimally fine-tuned model. The purpose of this notebook is to demonstrate how XLSR-Wav2Vec2's [checkpoint](https://huggingface.co/facebook/wav2vec2-large-xlsr-53) can be fine-tuned on a low-resource ASR dataset.\n",
        "\n",
        "In case you want to use this google colab to fine-tune your model, you should make sure that your training doesn't stop due to inactivity. A simple hack to prevent this is to paste the following code into the console of this tab (*right mouse click -> inspect -> Console tab and insert code*)."
      ]
    },
    {
      "cell_type": "markdown",
      "metadata": {
        "id": "VYYAvgkW4P0m"
      },
      "source": [
        "```javascript\n",
        "function ConnectButton(){\n",
        "    console.log(\"Connect pushed\"); \n",
        "    document.querySelector(\"#top-toolbar > colab-connect-button\").shadowRoot.querySelector(\"#connect\").click() \n",
        "}\n",
        "setInterval(ConnectButton,60000);\n",
        "```"
      ]
    },
    {
      "cell_type": "code",
      "metadata": {
        "id": "_UEjJqGsQw24",
        "scrolled": true,
        "colab": {
          "base_uri": "https://localhost:8080/",
          "height": 613
        },
        "outputId": "6d76c1a0-eda7-465f-d99b-737cf880bac4"
      },
      "source": [
        "trainer.train()"
      ],
      "execution_count": null,
      "outputs": [
        {
          "output_type": "stream",
          "text": [
            "0\n",
            "0\n",
            "0\n",
            "500\n",
            "1000\n",
            "1500\n",
            "2000\n",
            "2500\n",
            "3000\n",
            "3500\n"
          ],
          "name": "stdout"
        },
        {
          "output_type": "stream",
          "text": [
            "/usr/local/lib/python3.7/dist-packages/torch/optim/lr_scheduler.py:134: UserWarning: Detected call of `lr_scheduler.step()` before `optimizer.step()`. In PyTorch 1.1.0 and later, you should call them in the opposite order: `optimizer.step()` before `lr_scheduler.step()`.  Failure to do this will result in PyTorch skipping the first value of the learning rate schedule. See more details at https://pytorch.org/docs/stable/optim.html#how-to-adjust-learning-rate\n",
            "  \"https://pytorch.org/docs/stable/optim.html#how-to-adjust-learning-rate\", UserWarning)\n"
          ],
          "name": "stderr"
        },
        {
          "output_type": "display_data",
          "data": {
            "text/html": [
              "\n",
              "    <div>\n",
              "        <style>\n",
              "            /* Turns off some styling */\n",
              "            progress {\n",
              "                /* gets rid of default border in Firefox and Opera. */\n",
              "                border: none;\n",
              "                /* Needs to be in here for Safari polyfill so background images work as expected. */\n",
              "                background-size: auto;\n",
              "            }\n",
              "        </style>\n",
              "      \n",
              "      <progress value='236' max='6600' style='width:300px; height:20px; vertical-align: middle;'></progress>\n",
              "      [ 236/6600 51:17 < 23:14:53, 0.08 it/s, Epoch 1.07/30]\n",
              "    </div>\n",
              "    <table border=\"1\" class=\"dataframe\">\n",
              "  <thead>\n",
              "    <tr style=\"text-align: left;\">\n",
              "      <th>Step</th>\n",
              "      <th>Training Loss</th>\n",
              "      <th>Validation Loss</th>\n",
              "      <th>Wer</th>\n",
              "      <th>Runtime</th>\n",
              "      <th>Samples Per Second</th>\n",
              "    </tr>\n",
              "  </thead>\n",
              "  <tbody>\n",
              "    <tr>\n",
              "      <td>200</td>\n",
              "      <td>17.470700</td>\n",
              "      <td>4.201437</td>\n",
              "      <td>1.000000</td>\n",
              "      <td>939.170500</td>\n",
              "      <td>0.937000</td>\n",
              "    </tr>\n",
              "  </tbody>\n",
              "</table><p>"
            ],
            "text/plain": [
              "<IPython.core.display.HTML object>"
            ]
          },
          "metadata": {
            "tags": []
          }
        },
        {
          "output_type": "stream",
          "text": [
            "1000\n",
            "1500\n",
            "3500\n",
            "500\n",
            "2000\n",
            "2500\n",
            "0\n",
            "3000\n",
            "0\n",
            "Error: Error loading audio file: failed to open file. /content/gdrive/My Drive/Colab Notebooks/shabdavedi/data/raw/kn_in_male/knm_02894_02089296622.wav \n",
            " Hence using first row\n",
            "0\n",
            "500\n",
            "500\n"
          ],
          "name": "stdout"
        }
      ]
    },
    {
      "cell_type": "markdown",
      "metadata": {
        "id": "RHIVc44_fY2N"
      },
      "source": [
        "The training loss goes down and we can see that the WER on the test set also improves nicely. Because this notebook is just for demonstration purposes, we can stop here.\n",
        "\n",
        "The resulting model of this notebook has been saved to [`patrickvonplaten/wav2vec2-large-xlsr-turkish-demo`](https://huggingface.co/patrickvonplaten/wav2vec2-large-xlsr-turkish-demo)\n",
        "\n",
        "As a final check, let's load the model and verify that it indeed has learned to transcribe Turkish speech.\n",
        "\n",
        "Let's first load the pretrained checkpoint."
      ]
    },
    {
      "cell_type": "code",
      "metadata": {
        "id": "J8E8pxJ9hgZS"
      },
      "source": [
        "model = Wav2Vec2ForCTC.from_pretrained(model_output_dir + \"/checkpoint-20\").to(\"cuda\")\n",
        "\n"
      ],
      "execution_count": null,
      "outputs": []
    },
    {
      "cell_type": "code",
      "metadata": {
        "id": "jewUm88gRPQF"
      },
      "source": [
        "#processor = Wav2Vec2Processor.from_pretrained(model_output_dir + \"/checkpoint-2\")"
      ],
      "execution_count": null,
      "outputs": []
    },
    {
      "cell_type": "markdown",
      "metadata": {
        "id": "QsfGCQYSvY8C"
      },
      "source": [
        "Now, we will just take the first example of the test set, run it through the model and take the `argmax(...)` of the logits to retrieve the predicted token ids."
      ]
    },
    {
      "cell_type": "code",
      "metadata": {
        "colab": {
          "base_uri": "https://localhost:8080/"
        },
        "id": "XB5jw0HuRfDv",
        "outputId": "eab5bc75-706e-4024-adbc-f0c9eeac25c4"
      },
      "source": [
        "processor(test_dataset[0][\"input_values\"], return_tensors=\"pt\", padding=True, sampling_rate=16000)"
      ],
      "execution_count": null,
      "outputs": [
        {
          "output_type": "execute_result",
          "data": {
            "text/plain": [
              "{'input_values': tensor([[-0.0027, -0.0075, -0.0096,  ...,  0.0010,  0.0007,  0.0008]]), 'attention_mask': tensor([[1, 1, 1,  ..., 1, 1, 1]])}"
            ]
          },
          "metadata": {
            "tags": []
          },
          "execution_count": 28
        }
      ]
    },
    {
      "cell_type": "code",
      "metadata": {
        "id": "EA6fxk-jiHby"
      },
      "source": [
        "input_dict = processor(test_dataset[0][\"input_values\"], return_tensors=\"pt\", padding=True, sampling_rate=16000)\n",
        "\n",
        "logits = model(input_dict.input_values.to(\"cuda\")).logits\n",
        "\n",
        "pred_ids = torch.argmax(logits, dim=-1)[0]"
      ],
      "execution_count": null,
      "outputs": []
    },
    {
      "cell_type": "markdown",
      "metadata": {
        "id": "1JDyVCMDvlYd"
      },
      "source": [
        "We adapted `common_voice_test` quite a bit so that the dataset instance does not contain the original sentence label anymore. Thus, we re-use the original dataset to get the label of the first example."
      ]
    },
    {
      "cell_type": "code",
      "metadata": {
        "id": "8dPE2GRIgtx-"
      },
      "source": [
        "#common_voice_test_transcription = load_dataset(\"common_voice\", \"tr\", data_dir=\"./cv-corpus-6.1-2020-12-11\", split=\"test\")"
      ],
      "execution_count": null,
      "outputs": []
    },
    {
      "cell_type": "markdown",
      "metadata": {
        "id": "ApS3MmN4v5P7"
      },
      "source": [
        "Finally, we can decode the example."
      ]
    },
    {
      "cell_type": "code",
      "metadata": {
        "colab": {
          "base_uri": "https://localhost:8080/"
        },
        "id": "CwNr02tcwWdf",
        "outputId": "7454e363-aa47-4e1d-90a0-7796d8f32c18"
      },
      "source": [
        "pred_ids"
      ],
      "execution_count": null,
      "outputs": [
        {
          "output_type": "execute_result",
          "data": {
            "text/plain": [
              "tensor([107, 107, 107, 107, 107, 107, 107, 107, 107, 107, 107, 107, 107, 107,\n",
              "        107, 107, 107, 107, 107, 107, 107, 107, 107, 107, 107, 107, 107, 107,\n",
              "        107, 107, 107, 107, 107, 107, 107, 107, 107, 107, 107, 107, 107, 107,\n",
              "        107, 107, 107, 107, 107, 107, 107, 107, 107, 107, 107, 107, 107, 107,\n",
              "        107, 107, 107, 107, 107, 107, 107, 107, 107, 107, 107, 107, 107, 107,\n",
              "        107, 107, 107, 107, 107, 107, 107, 107, 107, 107, 107, 107, 107, 107,\n",
              "        107, 107, 107, 107, 107, 107, 107, 107, 107, 107, 107, 107, 107, 107,\n",
              "        107, 107, 107, 107, 107, 107, 107, 107, 107, 107, 107, 107, 107, 107,\n",
              "        107, 107, 107, 107, 107, 107, 107, 107, 107, 107, 107, 107, 107, 107,\n",
              "        107, 107, 107, 107, 107, 107, 107, 107, 107, 107, 107, 107, 107, 107,\n",
              "        107, 107, 107, 107, 107, 107, 107, 107, 107, 107, 107, 107, 107, 107,\n",
              "        107, 107, 107, 107, 107, 107, 107, 107, 107, 107, 107, 107, 107, 107,\n",
              "        107, 107, 107, 107, 107, 107, 107, 107, 107, 107, 107, 107, 107, 107,\n",
              "        107, 107, 107, 107, 107, 107, 107, 107, 107, 107, 107, 107, 107, 107,\n",
              "        107, 107, 107, 107, 107, 107, 107, 107, 107, 107, 107, 107, 107, 107,\n",
              "        107, 107, 107, 107, 107, 107, 107, 107, 107, 107, 107, 107, 107, 107,\n",
              "        107, 107, 107, 107, 107, 107, 107, 107, 107, 107, 107, 107, 107, 107,\n",
              "        107, 107, 107, 107, 107, 107, 107, 107, 107, 107, 107, 107, 107, 107,\n",
              "        107, 107, 107, 107, 107, 107, 107, 107, 107, 107, 107, 107, 107, 107,\n",
              "        107, 107, 107, 107, 107, 107, 107, 107, 107, 107, 107, 107, 107, 107,\n",
              "        107, 107, 107, 107, 107, 107, 107, 107, 107, 107, 107, 107, 107, 107,\n",
              "        107, 107, 107, 107, 107, 107, 107, 107, 107, 107, 107, 107, 107, 107,\n",
              "        107, 107, 107, 107, 107, 107, 107, 107, 107, 107, 107, 107, 107, 107,\n",
              "        107, 107, 107, 107, 107, 107, 107, 107, 107, 107, 107, 107, 107, 107,\n",
              "        107, 107, 107, 107, 107, 107, 107, 107, 107, 107, 107, 107, 107, 107,\n",
              "        107, 107, 107, 107, 107, 107, 107, 107, 107, 107, 107, 107, 107, 107,\n",
              "        107, 107, 107, 107, 107, 107, 107, 107, 107, 107, 107, 107, 107, 107,\n",
              "        107, 107, 107, 107, 107, 107, 107, 107, 107, 107, 107, 107, 107, 107,\n",
              "        107, 107, 107, 107, 107, 107, 107, 107, 107, 107, 107, 107, 107, 107,\n",
              "        107, 107, 107, 107, 107, 107, 107, 107, 107, 107, 107, 107, 107, 107,\n",
              "        107, 107, 107, 107, 107, 107, 107, 107, 107, 107, 107, 107, 107, 107,\n",
              "        107, 107, 107, 107, 107, 107, 107, 107, 107, 107, 107, 107, 107, 107,\n",
              "        107, 107, 107, 107, 107, 107, 107, 107, 107, 107, 107, 107, 107, 107,\n",
              "        107, 107, 107, 107, 107, 107, 107, 107, 107, 107, 107, 107, 107, 107,\n",
              "        107, 107, 107, 107, 107, 107, 107, 107, 107, 107, 107, 107, 107, 107,\n",
              "        107, 107, 107, 107, 107, 107, 107, 107, 107, 107, 107, 107, 107, 107,\n",
              "        107, 107, 107, 107, 107, 107, 107, 107, 107, 107, 107, 107, 107, 107,\n",
              "        107, 107], device='cuda:0')"
            ]
          },
          "metadata": {
            "tags": []
          },
          "execution_count": 32
        }
      ]
    },
    {
      "cell_type": "code",
      "metadata": {
        "colab": {
          "base_uri": "https://localhost:8080/"
        },
        "id": "wKJb3vdCvAwu",
        "outputId": "5b2ef8aa-2dbc-4f1f-dea4-f72619487af7"
      },
      "source": [
        "print(\"Prediction:\")\n",
        "print(processor.decode(pred_ids))\n",
        "\n",
        "print(\"\\nReference:\")\n",
        "print(processor.decode(test_dataset[0][\"labels\"]))\n"
      ],
      "execution_count": null,
      "outputs": [
        {
          "output_type": "stream",
          "text": [
            "Prediction:\n",
            "\n",
            "\n",
            "Reference:\n",
            "ಅಂತಸ್ಥ ಶಕ್ತಿಯು ತನ್ನ ವ್ಯವಸ್ಥೆಯ ಸಂಬಂಧಿತ ಅಂಗಳ ಸ್ಥಿತಿಯ ಮೇಲೆ ಅವಲಂಬಿತವಾಗಿರುತ್ತದೆ\n"
          ],
          "name": "stdout"
        }
      ]
    },
    {
      "cell_type": "code",
      "metadata": {
        "colab": {
          "base_uri": "https://localhost:8080/"
        },
        "id": "Phqxa1O1jMDk",
        "outputId": "8c3cb745-6fee-40fd-fd76-c28905e8c428"
      },
      "source": [
        "print(\"Prediction:\")\n",
        "print(processor.decode(pred_ids))\n",
        "\n",
        "print(\"\\nReference:\")\n",
        "print(processor.decode(test_dataset[0][\"labels\"]))\n"
      ],
      "execution_count": null,
      "outputs": [
        {
          "output_type": "stream",
          "text": [
            "Prediction:\n",
            "೪ಇಆಇಏಇಏಇ೪ಇಇ್ಇ್ಇಇ\n",
            "\n",
            "Reference:\n",
            "ಸ್ವಯಂಚಾಲಿತ ಯಂತ್ರಗಳು ವಿಂಗಡಿಸುವಿಕೆಯನ್ನು ಸುಲಭವಾಗಿ ಕೈಗೊಳ್ಳುವುದಕ್ಕೆ ನೆರವಾಗಲು ಟಪಾಲು ತುಣುಕಿನ ಮೇಲೆ ಇದನ್ನು ಮುದ್ರಿಸಲಾಗಿರುತ್ತದೆ\n"
          ],
          "name": "stdout"
        }
      ]
    },
    {
      "cell_type": "markdown",
      "metadata": {
        "id": "4n_8vhzUv7aw"
      },
      "source": [
        "Alright! The transcription can definitely be recognized from our prediction, but it is far from being perfect. Training the model a bit longer, spending more time on the data preprocessing, and especially using a language model for decoding would certainly improve the model's overall performance. \n",
        "\n",
        "For a demonstration model on a low-resource language, the results are acceptable, however 🤗."
      ]
    },
    {
      "cell_type": "code",
      "metadata": {
        "id": "PRka2R0HT5_x"
      },
      "source": [
        ""
      ],
      "execution_count": null,
      "outputs": []
    }
  ]
}